{
  "cells": [
    {
      "cell_type": "markdown",
      "source": [
        "This tutorial illustrates how to simulate the 3-qubit entanglement experiment examined in [T. Albash, I. Hen, F. M. Spedalieri, and D. A. Lidar, Reexamination of the Evidence for Entanglement in a Quantum Annealer, Phys. Rev. A 92, 062328 (2015)](https://link.aps.org/doi/10.1103/PhysRevA.92.062328) and the HOQST paper. We assume that our readers already have some knowledge of this experiment and HOQST. If not, we strongly recommend readers to first go through the references and introductory tutorials.\n\nTo make this tutorial less bulky, we also move most of the source code into [modules/3\\_qubit\\_entanglement](https://github.com/USCqserver/HOQSTTutorials.jl/tree/master/modules/3_qubit_entanglement) folder. Interested readers can look into the source files for more details.\n\n## Annealing schedules\nFirst, we load all necessary files and packages:"
      ],
      "metadata": {}
    },
    {
      "outputs": [],
      "cell_type": "code",
      "source": [
        "using OpenQuantumTools, OrdinaryDiffEq, Plots, LaTeXStrings\nusing Optim, Printf\n# schedules.jl defines the annealing schedules\ninclude(\"../../modules/3_qubit_entanglement/schedules.jl\")\n# hamiltonians.jl contains functions to construct the Hamiltonians\ninclude(\"../../modules/3_qubit_entanglement/hamiltonians.jl\")\n# couplings.jl contains functions to construct the system-bath coupling operators\ninclude(\"../../modules/3_qubit_entanglement/couplings.jl\")\n# evolutions.jl contains functions to construct the `Annealing` object\ninclude(\"../../modules/3_qubit_entanglement/evolutions.jl\")"
      ],
      "metadata": {},
      "execution_count": null
    },
    {
      "cell_type": "markdown",
      "source": [
        "We plot the annealing schedules used in this experiment:"
      ],
      "metadata": {}
    },
    {
      "outputs": [],
      "cell_type": "code",
      "source": [
        "s_axis = range(0, 1, length=200)\nplot(\n    s_axis,\n    [A.(s_axis) B.(s_axis)] / 2 / π,\n    linewidth=2,\n    label=[L\"a(s)\" L\"b(s)\"],\n    ylabel=L\"\\mathrm{Schedule}\\ (\\mathrm{GHz})\",\n    xlabel=L\"s\",\n    legend=(0.5, 0.9);\n)"
      ],
      "metadata": {},
      "execution_count": null
    },
    {
      "cell_type": "markdown",
      "source": [
        "## Adiabatic frame\nTo keep the running time reasonably short for this tutorial, we only solve the adiabatic master equation and the adiabatic PTRE in the adiabatic frame. For readers who are not familiar with the adiabatic frame, [H. Chen and D. A. Lidar, Why and When Pausing Is Beneficial in Quantum Annealing, Phys. Rev. Applied 14, 014100 (2020)](https://link.aps.org/doi/10.1103/PhysRevApplied.14.014100) contains a brief description of it. The readers are encouraged to try solving the dynamics in the original frame. It will take around 3 hours to complete the simulation of a single evolution.\n\nFor some choices of $h_p$ values, there are two level crossings during the entire evolution. We approximate those level crossings as instantaneous pulses in the adiabatic frame. Besides, we ignore all the geometric terms in the adiabatic frame because they scale inversely proportional to the total evolution time and are very small in our case. To illustrate this point, we first plot the Hamiltonian spectrum(the lowest 4 levels) during the first stage of the evolution:"
      ],
      "metadata": {}
    },
    {
      "outputs": [],
      "cell_type": "code",
      "source": [
        "# hp value for the instance\nhp = 1.2\n# construct the Hamiltonian\n# the second argument is the stage number\nH = build_H(hp, 1)\n# get the energy level of the initial state\nilvl = init_lvl(hp)\ns_list = range(0, 1, length=201) \nev = []\nfor s in s_list\n    w, = eigen_decomp(H, s, lvl=4)\n    push!(ev, w)\nend\ngap_lvl = ilvl == 1 ? 1 : 2\nsm, vm = min_gap(H, gap_lvl, gap_lvl+1)\n# create a plot\np1 = plot(s_list, hcat(ev...)', label=[L\"E_0\" L\"E_1\" L\"E_2\" L\"E_3\"], linewidth=2, xlabel=L\"s\", ylabel=L\"E_i\\ (\\mathrm{GHz})\", \n    legend=:bottomright, title=latexstring(@sprintf(\"\\\\mathrm{Stage\\\\ 1}; h_p=%.2f\", hp)))\n# add a tracking line\nsm <= 0.5 && !(hp == 1.8) ? vline!(p1, [sm], label=\"crossing\", linewidth=2) : nothing\nplot!(p1, [0.05, 0.0], [ev[1][ilvl], ev[1][ilvl]], arrow=0.4, color=:red, label=\"initial level\")"
      ],
      "metadata": {},
      "execution_count": null
    },
    {
      "cell_type": "markdown",
      "source": [
        "Second, we plot the amplitude of the geometric terms in the adiabatic frame. There will be a bunch of warnings when the following code block is executed. This is because some energy levels become so close to each other during the evolution (either because $a(t)$ becomes very small or there is actually a level crossing) that the current algorithm may not be accurate in those regions. It is fine to ignore those warnings in this particular example. The level crossings (delta functions in adiabatic frame) are not captured by the algorithm but will be manually added when we perform the simulations."
      ],
      "metadata": {}
    },
    {
      "outputs": [],
      "cell_type": "code",
      "source": [
        "dH = build_dH(hp, 1)\ncoupling = ConstantCouplings([\"ZII\", \"IZI\", \"IIZ\"], unit=:ħ)\ns_axis = range(0, 1, length=1000)\n\nproj = project_to_lowlevel(H, s_axis, coupling, dH, lvl=5, direction=:backward)\np1 = plot(s_axis, abs.(get_dθ(proj, 1, 2)), legend=:topleft, linewidth=2, label=L\"|d\\theta_{12}|\", ylims=[0,65], ylabel=L\"|d\\theta|\", xlabel=L\"s\")\nplot!(p1, s_axis, abs.(get_dθ(proj, 1, 3)), linewidth=2, label=L\"|d\\theta_{13}|\")\nplot!(p1, s_axis, abs.(get_dθ(proj, 2, 3)), linewidth=2, label=L\"|d\\theta_{23}|\")\nplot!(p1, s_axis, abs.(get_dθ(proj, 2, 4)), linewidth=2, label=L\"|d\\theta_{24}|\")\nplot!(p1, s_axis, abs.(get_dθ(proj, 3, 4)), linewidth=2, label=L\"|d\\theta_{34}|\")\nplot!(p1, s_axis, abs.(get_dθ(proj, 1, 4)), linewidth=2, label=L\"|d\\theta_{14}|\")\n\ntitle!(p1, latexstring(@sprintf \"h_p = %.3f\" hp))"
      ],
      "metadata": {},
      "execution_count": null
    },
    {
      "cell_type": "markdown",
      "source": [
        "When divided by the total evolution time of the first stage $\\tau_1$, these geometric terms are small compared with the energy gaps. The same argument applies to stage 3 of the evolution because these two stages are symmetrical to each other. Additionally, since stage 2 has a constant Hamiltonian, the geometric terms are 0. In conclusion, it is safe to ignore all the geometric terms during the entire evolution.\n\n## Dynamics\nFinally, we solve the open system dynamics using two different types of master equations. More details about the master equations and corresponding model parameters can be found in the HOQST paper.\n### Adiabatic master equation"
      ],
      "metadata": {}
    },
    {
      "outputs": [],
      "cell_type": "code",
      "source": [
        "# define Ohmic bath\nbath = Ohmic(1.2732e-4, 4, 12.5)\n# construct the Hamiltonian H, system-bath couplings C and\n# instantaneous pulse control callback cb for each stage of\n# the experiment\n# solve stage 1\nH, C, cb = build_adiabatic_frame_evolution(hp, 1)\nC = C[1]\nu1 = build_adiabatic_frame_u0(hp)\nannealing = Annealing(H, u1, coupling=C, bath=bath)\nsol1 = solve_ame(annealing, 2 * τ1, ω_hint=range(-15, 15, length=200), alg=Tsit5(), reltol=1e-6, callback=cb, saveat=range(0,2*τ1,length=100))\n\n# solve stage 2\n# with τ2 given by\nτ2 = 1e5\nu2 = sol1[end]\nH, C, cb = build_adiabatic_frame_evolution(hp, 2)\nC = C[1]\nannealing = Annealing(H, u2, coupling=C, bath=bath)\nsol2 =  solve_ame(annealing, τ2, ω_hint = range(-15, 15, length = 200), alg=Tsit5(), reltol=1e-8, abstol=1e-8, saveat=range(0,τ2,length=100))\n\n# solve stage 3\nu3 = sol2[end]\nH, C, cb = build_adiabatic_frame_evolution(hp, 3)\nC = C[1]\nannealing = Annealing(H, u3, coupling=C, bath=bath)\nsol3 = solve_ame(annealing, 2 * τ1, ω_hint=range(-15, 15, length=200), alg=Tsit5(), reltol=1e-6, callback=cb, saveat=range(0,2*τ1,length=100))"
      ],
      "metadata": {},
      "execution_count": null
    },
    {
      "cell_type": "markdown",
      "source": [
        "We plot the population of the instantaneous eigenstates during the evolution:"
      ],
      "metadata": {}
    },
    {
      "outputs": [],
      "cell_type": "code",
      "source": [
        "# combine 3 stages of the evolution together for plotting\nt_axis = [sol1.t; 2 * τ1 .+ sol2.t[2:end]; 2 * τ1 .+ τ2 .+ sol3.t[2:end]]\n# in adiabatic frame, the diagonal elements of the density matrix are\n# the instantaneous eigen-populations\ns1 = [real.(diag(u)) for u in sol1.u]\ns2 = [real.(diag(u)) for u in sol2.u[2:end]]\ns3 = [real.(diag(u)) for u in sol3.u[2:end]]\ns_axis = hcat(s1..., s2..., s3...)\nplot(t_axis/1e3, s_axis', xlabel=L\"t\\ (\\mu s)\", ylabel=L\"P_i(t)\", label=[L\"E_0\" L\"E_1\" L\"E_2\" L\"E_3\"], linewidth=2)\ntitle!(latexstring(@sprintf \"h_p = %.3f\" hp))"
      ],
      "metadata": {},
      "execution_count": null
    },
    {
      "cell_type": "markdown",
      "source": [
        "### Adiabatic PTRE"
      ],
      "metadata": {}
    },
    {
      "outputs": [],
      "cell_type": "code",
      "source": [
        "# pre-calculate the spectrum density of the \n# hybrid Ohmic bath to speed up the computation\nfunction hybrid_ohmic(ω, W, η, fc, T)\n    ω = 2*π*ω\n    bath = HybridOhmic(W, η, fc, T)\n    y = [spectrum(w, bath) for w in ω]\n    sfun = construct_interpolations(ω, y)\n    CustomBath(spectrum = sfun)\nend\n\nη = 1.2732e-4; fc = 4; T = 12.5; W = 3;\nbath_ohmic = Ohmic(η, fc, T)\nbath_hybrid = hybrid_ohmic(range(-15, 15, length=1001), W, 100*η, fc, T)\n\nH1, C1, cb1 = build_adiabatic_frame_evolution(hp, 1, polaron=true)\nC1p = C1[1]\nC1s = C1[2]\nu1 = build_adiabatic_frame_u0(hp)\n# For the adiabatic PTRE, we only perform the polaron transformation\n# on the probe qubit. So there are two types of interactions.\ninteraction_1 = Interaction(C1p, bath_hybrid)\ninteraction_2 = Interaction(C1s, bath_ohmic)\ninteraction1 = InteractionSet(interaction_1, interaction_2)\nannealing = Annealing(H1, u1, interactions = interaction1)\n# we ignore the Lambshift for the simulation\n# if the user want to include Lambshift in the simulation\n# it is better to provide an interpolated version of the `S`\n# function via keyword argument `lambshift_S`\nsol1 = solve_ame(annealing, 2 * τ1, lambshift = false, alg=Tsit5(), reltol=1e-6, callback=cb1, saveat=range(0,2*τ1,length=100))\n\nτ2 = 1e5\nu2 = sol1[end]\nH2, C2, cb2 = build_adiabatic_frame_evolution(hp, 2, polaron=true)\nC2p = C2[1]\nC2s = C2[2]\ninteraction_1 = Interaction(C2p, bath_hybrid)\ninteraction_2 = Interaction(C2s, bath_ohmic)\ninteraction2 = InteractionSet(interaction_1, interaction_2)\nannealing = Annealing(H2, u2, interactions = interaction2)\nsol2 = solve_ame(annealing, τ2, lambshift = false, alg=Tsit5(), reltol=1e-6, callback=cb2, saveat=range(0,τ2,length=100))\n\nu3 = sol2[end]\nH3, C3, cb3 = build_adiabatic_frame_evolution(hp, 3, polaron=true)\nC3p = C3[1]\nC3s = C3[2]\ninteraction_1 = Interaction(C3p, bath_hybrid)\ninteraction_2 = Interaction(C3s, bath_ohmic)\ninteraction3 = InteractionSet(interaction_1, interaction_2)\nannealing = Annealing(H3, u3, interactions = interaction3)\nsol3 = solve_ame(annealing, 2 * τ1, lambshift=false, alg=Tsit5(), reltol=1e-6, callback=cb3, saveat=range(0,2*τ1,length=100))"
      ],
      "metadata": {},
      "execution_count": null
    },
    {
      "cell_type": "markdown",
      "source": [
        "We plot the population of the instantaneous eigenstates:"
      ],
      "metadata": {}
    },
    {
      "outputs": [],
      "cell_type": "code",
      "source": [
        "# combine 3 stages of the evolution together for plotting\nt_axis = [sol1.t; 2 * τ1 .+ sol2.t[2:end]; 2 * τ1 .+ τ2 .+ sol3.t[2:end]]\n# in adiabatic frame, the diagonal elements of the density matrix are\n# the instantaneous eigen-populations\ns1 = [real.(diag(u)) for u in sol1.u]\ns2 = [real.(diag(u)) for u in sol2.u[2:end]]\ns3 = [real.(diag(u)) for u in sol3.u[2:end]]\ns_axis = hcat(s1..., s2..., s3...)\nplot(t_axis/1e3, s_axis', xlabel=L\"t\\ (\\mu s)\", ylabel=L\"P_i(t)\", label=[L\"E_0\" L\"E_1\" L\"E_2\" L\"E_3\"], linewidth=2)\ntitle!(latexstring(@sprintf \"h_p = %.3f\" hp))"
      ],
      "metadata": {},
      "execution_count": null
    },
    {
      "cell_type": "markdown",
      "source": [
        "The same procedure needs to be repeated for different $h_p$ and $\\tau_2$ values in order to reproduce Fig. 3 in the HOQST paper."
      ],
      "metadata": {}
    }
  ],
  "nbformat_minor": 2,
  "metadata": {
    "language_info": {
      "file_extension": ".jl",
      "mimetype": "application/julia",
      "name": "julia",
      "version": "1.5.3"
    },
    "kernelspec": {
      "name": "julia-1.5",
      "display_name": "Julia 1.5.3",
      "language": "julia"
    }
  },
  "nbformat": 4
}
