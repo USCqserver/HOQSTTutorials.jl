{
  "cells": [
    {
      "cell_type": "markdown",
      "source": [
        "## Initialize Hamiltonian with a custom eigendecomposition function\nWhen defining a Hamiltonian object, a keyword argument `EIGS` can be supplied to construct a user defined eigendecomposition routine. All the eigendecomposition calls inside the solver will call this function instead of the default one.\n\nFor example:"
      ],
      "metadata": {}
    },
    {
      "outputs": [],
      "cell_type": "code",
      "source": [
        "using QuantumAnnealingTools\n\n# Define a function to construct an eigendecomposition routine for the\n# Hamiltonian. The routine should have the signature: (H, t, lvl) -> (w, v).\n# The argument of this function is the cache used by the Hamiltonian object.\nfunction build_user_eigen(u_cache)\n    EIGS = function(H, t, lvl)\n        println(\"I am the user defined eigendecomposition routine.\")\n        w, v = eigen(Hermitian(H(t)))\n        w[1:lvl], v[:, 1:lvl]\n    end\nend\n\nH = DenseHamiltonian([(s)->1-s, (s)->s], [σx, σz], EIGS=build_user_eigen)\n\neigen_decomp(H, 0.5, lvl=2)"
      ],
      "metadata": {},
      "execution_count": null
    },
    {
      "cell_type": "markdown",
      "source": [
        "### Constant Hamiltonian\nThere are two applications for this functionality. First, if the Hamiltonian is constant, one can precalculates the eigensystem of that Hamiltonian and build a function that returns those precalculated values. This is particular helpful for adiabatic master equation solver."
      ],
      "metadata": {}
    },
    {
      "outputs": [],
      "cell_type": "code",
      "source": [
        "function build_user_eigen(u_cache)\n    # note that to keep the unit consistent, the unit of any value inside the routine should be 1/h\n    w, v = eigen(Hermitian(2*π*(σx+σz)))\n    EIGS = function(H, t, lvl)\n        w[1:lvl], v[:, 1:lvl]\n    end\nend\n\nH = DenseHamiltonian([(s)->1.0], [σx+σz], EIGS=build_user_eigen)\n\nprint(eigen_decomp(H, 0.5, lvl=2))\nprint(eigen_decomp(H, 0.0, lvl=2))"
      ],
      "metadata": {},
      "execution_count": null
    },
    {
      "cell_type": "markdown",
      "source": [
        "### Sparse Hamiltonian\n\nAnother application is to supply speical eigendecomposition algorithms for sparse matrices in order to take advantage of the sparsity. \n\nFor example, the default eigendecomposition algorithm for sparse Hamiltonian is to first convert it into dense matrices and then perform the decomposition."
      ],
      "metadata": {}
    },
    {
      "outputs": [],
      "cell_type": "code",
      "source": [
        "Hd = standard_driver(4, sp=true);\nHp = two_local_term(rand(3), [[1,2],[2,3],[3,4]], 4, sp=true)\nH = SparseHamiltonian([(s)->1-s, (s)->s], [Hd, Hp], unit=:ħ)\n\n# the default eigen_decomposition using dense matrices algorithm\nw, v = eigen_decomp(H, 0.1, lvl=4)"
      ],
      "metadata": {},
      "execution_count": null
    },
    {
      "cell_type": "markdown",
      "source": [
        "If the size of the Hamiltonian becomes very large, we can use sparse algorithms provided by [Arpack](https://github.com/JuliaLinearAlgebra/Arpack.jl) instead."
      ],
      "metadata": {}
    },
    {
      "outputs": [],
      "cell_type": "code",
      "source": [
        "using Pkg\nPkg.add(\"Arpack\")\nusing Arpack\n\nfunction build_user_eigen(u_cache)\n    function (H, t, lvl)\n        hmat = H(t)\n        println(\"Using sparse matrix algorithm\")\n        # define all the Arpack routine parameters here\n        eigs(hmat, nev = lvl, which=:SR, tol=0.0, maxiter=300)\n    end\nend\n\nHd = standard_driver(4, sp=true);\nHp = two_local_term(rand(3), [[1,2],[2,3],[3,4]], 4, sp=true)\nH = SparseHamiltonian([(s)->1-s, (s)->s], [Hd, Hp], unit=:ħ, EIGS =build_user_eigen)\n\neigen_decomp(H, 0.1, lvl=4)"
      ],
      "metadata": {},
      "execution_count": null
    }
  ],
  "nbformat_minor": 2,
  "metadata": {
    "language_info": {
      "file_extension": ".jl",
      "mimetype": "application/julia",
      "name": "julia",
      "version": "1.5.2"
    },
    "kernelspec": {
      "name": "julia-1.5",
      "display_name": "Julia 1.5.2",
      "language": "julia"
    }
  },
  "nbformat": 4
}
