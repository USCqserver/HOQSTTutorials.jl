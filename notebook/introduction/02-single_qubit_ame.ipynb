{
  "cells": [
    {
      "cell_type": "markdown",
      "source": [
        "## Single qubit annealing\nIn this example, we will try to recreate the example in this paper: [Decoherence in adiabatic quantum computation](https://arxiv.org/abs/1503.08767).\nThe Hamiltonian is\n\n$$H(s) = -\\frac{1}{2}(1-s)\\sigma_x - \\frac{1}{2}s\\sigma_z \\ .$$\n\nThe following code block construct this Hamiltonian"
      ],
      "metadata": {}
    },
    {
      "outputs": [],
      "cell_type": "code",
      "source": [
        "using QuantumAnnealingTools, OrdinaryDiffEq, Plots\nH = DenseHamiltonian([(s)->1-s, (s)->s], -[σx, σz]/2)"
      ],
      "metadata": {},
      "execution_count": null
    },
    {
      "cell_type": "markdown",
      "source": [
        "This package directly interacts with [Plots.jl](https://github.com/JuliaPlots/Plots.jl) by defining [recipes](https://github.com/JuliaPlots/RecipesBase.jl). We can look at the spectrum of the Hamiltonian by directly plotting the object:"
      ],
      "metadata": {}
    },
    {
      "outputs": [],
      "cell_type": "code",
      "source": [
        "# this plot recipe is for conviniently plotting the spectrum of the Hamltonian\n# the first 3 arguments are: the Hamiltonian, the grid `s` and the levels to keep\nplot(H, 0:0.01:1, 2, linewidth=2)"
      ],
      "metadata": {},
      "execution_count": null
    },
    {
      "cell_type": "markdown",
      "source": [
        "### Unit ($h$ or $\\hbar$)\nThere is a keyword argument `unit` for the constructor of any Hamiltonian object, whose default value is `:h`. This argument specifies the unit of other input arguments. For example, setting `unit` to `:h` means other input argument is in $\\mathrm{GHz}$, while setting it to `:ħ` means the unit is in $2\\pi\\mathrm{GHz}$. To evaluate the value of Hamiltonian object at a given time, it is recommended to use `evaluate` function instead of directly calling the object. This will also return the value in the unit system of $h=1$."
      ],
      "metadata": {}
    },
    {
      "outputs": [],
      "cell_type": "code",
      "source": [
        "H_h = DenseHamiltonian([(s)->1-s, (s)->s], -[σx, σz]/2, unit=:h)\nH_ħ = DenseHamiltonian([(s)->1-s, (s)->s], -[σx, σz]/2, unit=:ħ)\nprintln(\"Setting unit to :h\")\n@show evaluate(H_h, 0.5)\nprintln(\"Setting unit to :ħ\")\n@show evaluate(H_ħ, 0.5);"
      ],
      "metadata": {},
      "execution_count": null
    },
    {
      "cell_type": "markdown",
      "source": [
        "Internally, this package use a unit system of $\\hbar=1$. If we call `H_h` directly, we can see that the value is scaled by $2\\pi$."
      ],
      "metadata": {}
    },
    {
      "outputs": [],
      "cell_type": "code",
      "source": [
        "H_h(0.5)"
      ],
      "metadata": {},
      "execution_count": null
    },
    {
      "cell_type": "markdown",
      "source": [
        "### Annealing\nThe total Hamiltonian is\n\n$$H(s) = H_{\\mathrm{S}}(s) + gS \\otimes B + H_{\\mathrm{B}} \\ .$$\nWe denote $S$ the coupling and $\\{gB, H_{\\mathrm{B}}\\}$ the bath.\n\n#### Coupling\nFor constant coupling operators, we can use constructor `ConstantCouplings`. Like the case of Hamiltonian, there will be a keyword argument `unit` to specify the input unit."
      ],
      "metadata": {}
    },
    {
      "outputs": [],
      "cell_type": "code",
      "source": [
        "coupling = ConstantCouplings([\"Z\"])"
      ],
      "metadata": {},
      "execution_count": null
    },
    {
      "cell_type": "markdown",
      "source": [
        "#### Bath\nA bath instance can be any object which implement three methods:\n  1. Correlation function: `correlation(τ, bath)`\n  2. Spectrum density: `γ(ω, bath)`\n  3. Lamb shift: `S(ω, bath)`\n\nThose three methods are required by Redfield/Adiabatic ME solvers. Currently we have built in support for Ohmic bath.\nAn Ohmic bath object can be created by :"
      ],
      "metadata": {}
    },
    {
      "outputs": [],
      "cell_type": "code",
      "source": [
        "η = 1e-4\nfc = 4\nT = 16\nbath = Ohmic(η, fc, T)"
      ],
      "metadata": {},
      "execution_count": null
    },
    {
      "cell_type": "markdown",
      "source": [
        "`info_freq` is a convenient function to convert each quantities into the same unit."
      ],
      "metadata": {}
    },
    {
      "outputs": [],
      "cell_type": "code",
      "source": [
        "info_freq(bath)"
      ],
      "metadata": {},
      "execution_count": null
    },
    {
      "cell_type": "markdown",
      "source": [
        "We can also directly plot the spectrum density of Ohmic bath"
      ],
      "metadata": {}
    },
    {
      "outputs": [],
      "cell_type": "code",
      "source": [
        "p1 = plot(bath, :γ, range(0,20,length=200), label=\"\", size=(800, 400), linewidth=2)\np2 = plot(bath, :S, range(0,20,length=200), label=\"\", size=(800, 400), linewidth=2)\nplot(p1, p2, layout=(1,2), left_margin=3Plots.Measures.mm)"
      ],
      "metadata": {},
      "execution_count": null
    },
    {
      "cell_type": "markdown",
      "source": [
        "#### Annealing object\n\nFinally, we can assemble the annealing object by"
      ],
      "metadata": {}
    },
    {
      "outputs": [],
      "cell_type": "code",
      "source": [
        "# Hamiltonian\nH = DenseHamiltonian([(s)->1-s, (s)->s], -[σx, σz]/2, unit=:ħ)\n# initial state\nu0 = PauliVec[1][1]\n# coupling\ncoupling = ConstantCouplings([\"Z\"], unit=:ħ)\n# bath\nbath = Ohmic(1e-4, 4, 16)\nannealing = Annealing(H, u0; coupling=coupling, bath=bath)"
      ],
      "metadata": {},
      "execution_count": null
    },
    {
      "cell_type": "markdown",
      "source": [
        "Because we want to compare our results to the [reference paper](https://journals.aps.org/pra/abstract/10.1103/PhysRevA.91.062320), we need to set the unit to $\\hbar=1$.\n\n### Closed system\nCurrently there are several interface to the solvers which might be handy. The first one is the solver for Schrodinger equation."
      ],
      "metadata": {}
    },
    {
      "outputs": [],
      "cell_type": "code",
      "source": [
        "tf = 10*sqrt(2)\n@time sol = solve_schrodinger(annealing, tf, alg=Tsit5(), retol=1e-4)\n# a convinient plot recipe to plot the instantaneous population during the evolution\n# currently only support Hamiltonian with annealing parameter s = t/tf from 0 to 1.\nplot(sol, H, [1], 0:0.01:tf, linewidth=2, xlabel = \"t (ns)\", ylabel=\"\\$P_G(t)\\$\")"
      ],
      "metadata": {},
      "execution_count": null
    },
    {
      "cell_type": "markdown",
      "source": [
        "The solution is an `ODESolution` object in `DifferentialEquations.jl` package. More details for the interface can be found [here](http://docs.juliadiffeq.org/latest/basics/solution.html). The value of state vector at a given time can be obtained by directly calling the `ODESolution` object."
      ],
      "metadata": {}
    },
    {
      "outputs": [],
      "cell_type": "code",
      "source": [
        "sol(0.5)"
      ],
      "metadata": {},
      "execution_count": null
    },
    {
      "cell_type": "markdown",
      "source": [
        "other interface includes"
      ],
      "metadata": {}
    },
    {
      "outputs": [],
      "cell_type": "code",
      "source": [
        "# You need to solve the unitary first before trying to solve Redfield equation\n@time U = solve_unitary(annealing, tf, alg=Tsit5(), abstol=1e-8, retol=1e-8);\n@time solve_von_neumann(annealing, tf, alg=Tsit5(), abstol=1e-8, retol=1e-8);"
      ],
      "metadata": {},
      "execution_count": null
    },
    {
      "cell_type": "markdown",
      "source": [
        "### Open System\n#### Time dependent Redfield equation\nThe time depedent Redfield equation interface needs\n  1. Annealing object\n  2. Total annealing time\n  3. Pre-calculated unitary\n  \nAll the other keyword arguments in [solver options](http://docs.juliadiffeq.org/latest/basics/common_solver_opts.html) are supported."
      ],
      "metadata": {}
    },
    {
      "outputs": [],
      "cell_type": "code",
      "source": [
        "tf = 10*sqrt(2)\nU = solve_unitary(annealing, tf, alg=Tsit5(), abstol=1e-8, retol=1e-8);\nsol = solve_redfield(annealing, tf, U; alg=Tsit5(), abstol=1e-8, retol=1e-8)\nplot(sol, H, [1], 0:0.01:tf, linewidth=2, xlabel=\"t (ns)\", ylabel=\"\\$P_G(t)\\$\")"
      ],
      "metadata": {},
      "execution_count": null
    },
    {
      "cell_type": "markdown",
      "source": [
        "#### Adiabatic master equation\nThe adiabatic master equation interface needs\n  1. Annealing object\n  2. Total Annealing time\n\nBesides other keyword arguments supported in `DifferentialEquations`, it is highly recommended to add the `ω_hint` keyword argument. By doing this, the solver will pre-compute the lamb shift $S(\\omega)$ within given range to speed up the computation."
      ],
      "metadata": {}
    },
    {
      "outputs": [],
      "cell_type": "code",
      "source": [
        "tf = 10*sqrt(2)\n@time sol = solve_ame(annealing, tf; alg=Tsit5(), ω_hint=range(-6, 6, length=100), reltol=1e-4)\nplot(sol, H, [1], 0:0.01:tf, linewidth=2, xlabel=\"t (ns)\", ylabel=\"\\$P_G(t)\\$\")"
      ],
      "metadata": {},
      "execution_count": null
    },
    {
      "cell_type": "markdown",
      "source": [
        "We can solve for a longer anneal time:"
      ],
      "metadata": {}
    },
    {
      "outputs": [],
      "cell_type": "code",
      "source": [
        "tf = 5000\n@time sol_ame = solve_ame(annealing, tf; alg=Tsit5(), ω_hint=range(-6, 6, length=100), reltol=1e-4)\nplot(sol_ame, H, [1], 0:1:tf, linewidth=2, xlabel=\"t (ns)\", ylabel=\"\\$P_G(t)\\$\")"
      ],
      "metadata": {},
      "execution_count": null
    },
    {
      "cell_type": "markdown",
      "source": [
        "The above results agree with Fig 2 of the [reference paper](https://journals.aps.org/pra/abstract/10.1103/PhysRevA.91.062320).\n\n#### Trajectory method for adiabatic master equation\nThe package also supports the trajectory method for AME. More details of this method can be found in this [paper](https://journals.aps.org/pra/abstract/10.1103/PhysRevA.97.022116). The basic workflow is to create ODE [EnsembleProblem](https://docs.juliadiffeq.org/dev/features/ensemble/) via `build_ensembles` interface. Then, the resulting ensemble problem can be solved by the native [Parallel Ensemble Simulations](https://docs.juliadiffeq.org/dev/features/ensemble/) interface of `DifferentialEquations.jl`. The following code block solves the same $t_f = 5000(ns)$ annealing above with 1000 trajectories."
      ],
      "metadata": {}
    },
    {
      "outputs": [],
      "cell_type": "code",
      "source": [
        "tf = 5000\nprob = build_ensembles(annealing, tf, :ame, ω_hint=range(-6, 6, length=100))\n# to use multi-threads, you need to start Julia kernel with multiple threads\nsol = solve(prob, Tsit5(), EnsembleThreads(), trajectories=1000, reltol=1e-4, saveat=range(0,1,length=100))\n\ns_axis = range(0,tf,length=100)\ndataset = []\nfor s in s_axis\n    w, v = eigen_decomp(H, s/tf)\n    push!(dataset, [abs2(normalize(so(s, continuity=:right))' * v[:, 1]) for so in sol])\nend\n\n# the following code average over all the trajectories\npop_mean = []\npop_rmse = []\nfor data in dataset\n    p_mean = sum(data)/1000\n    p_rmse = sqrt(sum((x)->(x-p_mean)^2, data))/1000\n    push!(pop_mean, p_mean)\n    push!(pop_rmse, p_rmse)\nend\n\nscatter(s_axis, pop_mean, marker=:d, yerror=pop_rmse, label=\"Trajectory\", markersize=6)\nplot!(sol_ame, H, [1], s_axis, linewidth=2, label=\"Non-trajectory\")\nxlabel!(\"t (ns)\")\nylabel!(\"\\$P_G(s)\\$\")"
      ],
      "metadata": {},
      "execution_count": null
    }
  ],
  "nbformat_minor": 2,
  "metadata": {
    "language_info": {
      "file_extension": ".jl",
      "mimetype": "application/julia",
      "name": "julia",
      "version": "1.5.0"
    },
    "kernelspec": {
      "name": "julia-1.5",
      "display_name": "Julia 1.5.0",
      "language": "julia"
    }
  },
  "nbformat": 4
}
