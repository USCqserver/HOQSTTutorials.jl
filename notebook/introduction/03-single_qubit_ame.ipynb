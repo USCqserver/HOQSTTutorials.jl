{
  "cells": [
    {
      "cell_type": "markdown",
      "source": [
        "## Single qubit annealing\nThis tutorial will recreate the single-qubit example in this paper: [[1] Decoherence in adiabatic quantum computation](https://arxiv.org/abs/1503.08767).\n\nThe Hamiltonian of this example is\n\n$$H(s) = -\\frac{1}{2}(1-s)\\sigma_x - \\frac{1}{2}s\\sigma_z \\ ,$$\n\nwhich can be constructed by the following code block"
      ],
      "metadata": {}
    },
    {
      "outputs": [],
      "cell_type": "code",
      "source": [
        "using OpenQuantumTools, OrdinaryDiffEq, Plots\nH = DenseHamiltonian([(s)->1-s, (s)->s], -[σx, σz]/2)"
      ],
      "metadata": {},
      "execution_count": null
    },
    {
      "cell_type": "markdown",
      "source": [
        "This package directly interacts with [Plots.jl](https://github.com/JuliaPlots/Plots.jl) by defining [recipes](https://github.com/JuliaPlots/RecipesBase.jl). We can visualize the spectrum of the Hamiltonian by directly plotting the object:"
      ],
      "metadata": {}
    },
    {
      "outputs": [],
      "cell_type": "code",
      "source": [
        "# this plot recipe is for conveniently plotting the spectrum of the Hamiltonian\n# the first 3 arguments are: the Hamiltonian, the grid `s` and the levels to keep\nplot(H, 0:0.01:1, 2, linewidth=2)"
      ],
      "metadata": {},
      "execution_count": null
    },
    {
      "cell_type": "markdown",
      "source": [
        "### Units ($h$ or $\\hbar$)\nA keyword argument `unit` whose default value is `:h` can be provided to any Hamiltonian type's constructor. This argument specifies the units of other input arguments. For example, setting `unit` to `:h` means the other input arguments have units of $\\mathrm{GHz}$, while setting it to `:ħ` means the other input arguments have units of $2\\pi\\mathrm{GHz}$. To evaluate the Hamiltonian at a specified time, the user should use the `evaluate` function instead of directly calling it. `evaluate` will always return the Hamiltonian value in the unit system of $h=1$. The following code block shows the effects of different choices of `unit`:"
      ],
      "metadata": {}
    },
    {
      "outputs": [],
      "cell_type": "code",
      "source": [
        "H_h = DenseHamiltonian([(s)->1-s, (s)->s], -[σx, σz]/2, unit=:h)\nH_ħ = DenseHamiltonian([(s)->1-s, (s)->s], -[σx, σz]/2, unit=:ħ)\nprintln(\"Setting unit to :h\")\n@show evaluate(H_h, 0.5)\nprintln(\"Setting unit to :ħ\")\n@show evaluate(H_ħ, 0.5);"
      ],
      "metadata": {},
      "execution_count": null
    },
    {
      "cell_type": "markdown",
      "source": [
        "Internally, HOQST uses a unit system of $\\hbar=1$. If we call `H_h` directly, its value is scaled by $2\\pi$:"
      ],
      "metadata": {}
    },
    {
      "outputs": [],
      "cell_type": "code",
      "source": [
        "H_h(0.5)"
      ],
      "metadata": {},
      "execution_count": null
    },
    {
      "cell_type": "markdown",
      "source": [
        "### Annealing\nThe total Hamiltonian presented in [[1]](https://arxiv.org/abs/1503.08767) is\n\n$$H(s) = H_{\\mathrm{S}}(s) + gS \\otimes B + H_{\\mathrm{B}} \\ ,$$\n\nwhere $S$ denotes the system coupling operator in the system-bath interaction and $\\{gB, H_{\\mathrm{B}}\\}$ are the bath coupling operator and bath Hamiltonian, respectively.\n\n#### Coupling\nFor constant coupling operators, we can use the constructor `ConstantCouplings`. As in the Hamiltonian case, there is a keyword argument `unit` to specify the input unit."
      ],
      "metadata": {}
    },
    {
      "outputs": [],
      "cell_type": "code",
      "source": [
        "coupling = ConstantCouplings([\"Z\"])"
      ],
      "metadata": {},
      "execution_count": null
    },
    {
      "cell_type": "markdown",
      "source": [
        "#### Bath\nA bath instance can be any object which implements the following three methods:\n  1. Correlation function: `correlation(τ, bath)`\n  2. Spectral density: `γ(ω, bath)`\n  3. Lamb shift: `S(ω, bath)`\n\nThe Redfield/Adiabatic ME solvers require these three methods. Currently, HOQST has built-in support for the Ohmic bath. An Ohmic bath object can be created by:"
      ],
      "metadata": {}
    },
    {
      "outputs": [],
      "cell_type": "code",
      "source": [
        "η = 1e-4\nfc = 4\nT = 16\nbath = Ohmic(η, fc, T)"
      ],
      "metadata": {},
      "execution_count": null
    },
    {
      "cell_type": "markdown",
      "source": [
        "`info_freq` is a convenient function to convert each quantity into the same system of units."
      ],
      "metadata": {}
    },
    {
      "outputs": [],
      "cell_type": "code",
      "source": [
        "info_freq(bath)"
      ],
      "metadata": {},
      "execution_count": null
    },
    {
      "cell_type": "markdown",
      "source": [
        "We can also directly plot the spectral density of an Ohmic bath:"
      ],
      "metadata": {}
    },
    {
      "outputs": [],
      "cell_type": "code",
      "source": [
        "p1 = plot(bath, :γ, range(0,20,length=200), label=\"\", size=(800, 400), linewidth=2)\np2 = plot(bath, :S, range(0,20,length=200), label=\"\", size=(800, 400), linewidth=2)\nplot(p1, p2, layout=(1,2), left_margin=3Plots.Measures.mm)"
      ],
      "metadata": {},
      "execution_count": null
    },
    {
      "cell_type": "markdown",
      "source": [
        "#### Annealing object\n\nFinally, we can assemble the annealing object by"
      ],
      "metadata": {}
    },
    {
      "outputs": [],
      "cell_type": "code",
      "source": [
        "# Hamiltonian\nH = DenseHamiltonian([(s)->1-s, (s)->s], -[σx, σz]/2, unit=:ħ)\n# initial state\nu0 = PauliVec[1][1]\n# coupling\ncoupling = ConstantCouplings([\"Z\"], unit=:ħ)\n# bath\nbath = Ohmic(1e-4, 4, 16)\nannealing = Annealing(H, u0; coupling=coupling, bath=bath)"
      ],
      "metadata": {},
      "execution_count": null
    },
    {
      "cell_type": "markdown",
      "source": [
        "In order to compare our results to [[1]](https://journals.aps.org/pra/abstract/10.1103/PhysRevA.91.062320) we need to set the units to $\\hbar=1$.\n\n### Closed system\nThere are several interfaces in HOQST that can come in handy. The first one is the Schrodinger equation solver:"
      ],
      "metadata": {}
    },
    {
      "outputs": [],
      "cell_type": "code",
      "source": [
        "tf = 10*sqrt(2)\n@time sol = solve_schrodinger(annealing, tf, alg=Tsit5(), retol=1e-4)\n# The following line of code is a convenient recipe to plot the instantaneous population during the evolution.\n# It currently only supports Hamiltonians with an annealing parameter s = t/tf from 0 to 1.\n# The third argument can be either a list or a number. When it is a list, it specifies the energy levels to plot (starting from 0); when it is a number, it specifies the total number of levels to plot.\nplot(sol, H, [0], 0:0.01:tf, linewidth=2, xlabel = \"t (ns)\", ylabel=\"\\$P_G(t)\\$\")"
      ],
      "metadata": {},
      "execution_count": null
    },
    {
      "cell_type": "markdown",
      "source": [
        "The solution is an `ODESolution` object in the `DifferentialEquations.jl` package. More details for the interface can be found [here](http://docs.juliadiffeq.org/latest/basics/solution.html). The state vector's value at a given time can be obtained by directly calling the `ODESolution` object."
      ],
      "metadata": {}
    },
    {
      "outputs": [],
      "cell_type": "code",
      "source": [
        "sol(0.5)"
      ],
      "metadata": {},
      "execution_count": null
    },
    {
      "cell_type": "markdown",
      "source": [
        "Other interfaces include:"
      ],
      "metadata": {}
    },
    {
      "outputs": [],
      "cell_type": "code",
      "source": [
        "# You need to solve the unitary first before trying to solve Redfield equation\n@time U = solve_unitary(annealing, tf, alg=Tsit5(), abstol=1e-8, retol=1e-8);\n@time solve_von_neumann(annealing, tf, alg=Tsit5(), abstol=1e-8, retol=1e-8);"
      ],
      "metadata": {},
      "execution_count": null
    },
    {
      "cell_type": "markdown",
      "source": [
        "### Open System\n#### Time-dependent Redfield equation\nThe time-dependent Redfield equation solver needs\n  1. Annealing object\n  2. Total annealing time\n  3. Pre-calculated unitary\nto work. The following code block illustrates how to supply the above three objects to the Redfield solver. In addition all the other keyword arguments in [DifferentialEquations.jl](https://diffeq.sciml.ai/stable/basics/common_solver_opts/) are supported."
      ],
      "metadata": {}
    },
    {
      "outputs": [],
      "cell_type": "code",
      "source": [
        "tf = 10*sqrt(2)\nU = solve_unitary(annealing, tf, alg=Tsit5(), abstol=1e-8, retol=1e-8);\nsol = solve_redfield(annealing, tf, U; alg=Tsit5(), abstol=1e-8, retol=1e-8)\nplot(sol, H, [0], 0:0.01:tf, linewidth=2, xlabel=\"t (ns)\", ylabel=\"\\$P_G(t)\\$\")"
      ],
      "metadata": {},
      "execution_count": null
    },
    {
      "cell_type": "markdown",
      "source": [
        "#### Adiabatic master equation\nThe adiabatic master equation solver needs\n  1. Annealing object\n  2. Total Annealing time\n\nBesides other keyword arguments supported in [DifferentialEquations.jl](https://diffeq.sciml.ai/stable/basics/common_solver_opts/), we recommend adding the `ω_hint` keyword argument. By doing this, the solver will pre-compute the quantity $S(\\omega)$ in the Lamb shift within the range specified by `ω_hint`, which will significantly speed up the computation."
      ],
      "metadata": {}
    },
    {
      "outputs": [],
      "cell_type": "code",
      "source": [
        "tf = 10*sqrt(2)\n@time sol = solve_ame(annealing, tf; alg=Tsit5(), ω_hint=range(-6, 6, length=100), reltol=1e-4)\nplot(sol, H, [0], 0:0.01:tf, linewidth=2, xlabel=\"t (ns)\", ylabel=\"\\$P_G(t)\\$\")"
      ],
      "metadata": {},
      "execution_count": null
    },
    {
      "cell_type": "markdown",
      "source": [
        "We can also solve the AME for a longer annealing time:"
      ],
      "metadata": {}
    },
    {
      "outputs": [],
      "cell_type": "code",
      "source": [
        "tf = 5000\n@time sol_ame = solve_ame(annealing, tf; alg=Tsit5(), ω_hint=range(-6, 6, length=100), reltol=1e-6)\nplot(sol_ame, H, [0], 0:1:tf, linewidth=2, xlabel=\"t (ns)\", ylabel=\"\\$P_G(t)\\$\")"
      ],
      "metadata": {},
      "execution_count": null
    },
    {
      "cell_type": "markdown",
      "source": [
        "The above results agree with Fig. 2 of [[1]](https://journals.aps.org/pra/abstract/10.1103/PhysRevA.91.062320).\n\n#### Quantum trajectories method for the adiabatic master equation\nThe package also supports the quantum trajectories method for the AME. More details of this method can be found in [[2] Quantum trajectories for time-dependent adiabatic master equations](https://journals.aps.org/pra/abstract/10.1103/PhysRevA.97.022116). The basic workflow is to create an ODE [EnsembleProblem](https://docs.juliadiffeq.org/dev/features/ensemble/) via the `build_ensembles` interface. The resulting `EnsembleProblem` object can then be solved by the native [Parallel Ensemble Simulations](https://docs.juliadiffeq.org/dev/features/ensemble/) interface of `DifferentialEquations.jl`. The following code block solves the same annealing dynamics described above ($t_f = 5000(ns)$) using multi-threading. To keep the run-time reasonably short, we simulate only 3000 trajectories in this example. This may be too small for the result to converge to the true solution. The user is encouraged to try more trajectories and see how the result converges.\n\nThe codes can also be deployed on high-performance clusters using Julia's native [distributed computing](https://docs.julialang.org/en/v1/manual/distributed-computing/) module."
      ],
      "metadata": {}
    },
    {
      "outputs": [],
      "cell_type": "code",
      "source": [
        "tf = 5000\n# total number of trajectories\nnum_trajectories = 3000\n# construct the `EnsembleProblem` \n# `safetycopy` needs to be true because the current trajectories implementation is not thread-safe.\nprob = build_ensembles(annealing, tf, :ame, ω_hint=range(-6, 6, length=200), safetycopy=true)\n# to use multi-threads, you need to start the Julia kernel with multiple threads\n# julia --threads 8\nsol = solve(prob, Tsit5(), EnsembleThreads(), trajectories=num_trajectories, reltol=1e-6, saveat=range(0,tf,length=100))\n\nt_axis = range(0,tf,length=100)\ndataset = []\nfor t in t_axis\n    w, v = eigen_decomp(H, t/tf)\n    push!(dataset, [abs2(normalize(so(t))' * v[:, 1]) for so in sol])\nend\n\n# the following codes calculate the instantaneous ground state population and the corresponding error bars by averaging over all the trajectories:\n\npop_mean = []\npop_sem = []\nfor data in dataset\n    p_mean = sum(data) / num_trajectories\n    p_sem = sqrt(sum((x)->(x-p_mean)^2, data)) / num_trajectories\n    push!(pop_mean, p_mean)\n    push!(pop_sem, p_sem)\nend\n\nscatter(t_axis, pop_mean, marker=:d, yerror=2*pop_sem, label=\"Trajectory\", markersize=6)\nplot!(sol_ame, H, [0], t_axis, linewidth=2, label=\"Non-trajectory\")\nxlabel!(\"t (ns)\")\nylabel!(\"\\$P_G(s)\\$\")"
      ],
      "metadata": {},
      "execution_count": null
    },
    {
      "outputs": [],
      "cell_type": "code",
      "source": [
        "using HOQSTTutorials\nHOQSTTutorials.tutorial_footer(WEAVE_ARGS[:folder],WEAVE_ARGS[:file])"
      ],
      "metadata": {},
      "execution_count": null
    }
  ],
  "nbformat_minor": 2,
  "metadata": {
    "language_info": {
      "file_extension": ".jl",
      "mimetype": "application/julia",
      "name": "julia",
      "version": "1.6.0"
    },
    "kernelspec": {
      "name": "julia-1.6",
      "display_name": "Julia 1.6.0",
      "language": "julia"
    }
  },
  "nbformat": 4
}
