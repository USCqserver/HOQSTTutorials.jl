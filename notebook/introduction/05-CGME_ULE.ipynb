{
  "cells": [
    {
      "cell_type": "markdown",
      "source": [
        "## Model setup\n\nIn this tutorial, we consider a standard single qubit annealing Hamiltonian\n\n$$H(s) = -\\frac{1}{2}(1-s)\\sigma_x - \\frac{1}{2}s\\sigma_z$$\n\ncoupled to an Ohmic bath via $\\sigma_z$. We solve the open system dynamics via three different MEs: the Redfield equation, the coarse-grained ME (CGME), and the universal Lindblad equation (ULE). Unlike the Redfield equation, the CGME and ULE generate CP maps.\n\n## Coarse-grained ME\n\nThe CGME is a completely positive ME obtained by applying an additional time coarse-graining approximation to the Redfield equation. More details of the CGME can be found in [[1] Completely positive master equation for arbitrary driving and small level spacing](https://quantum-journal.org/papers/q-2020-02-06-227/). We first solve the original Redfield equation and CGME and compare both cases' instantaneous ground state populations."
      ],
      "metadata": {}
    },
    {
      "outputs": [],
      "cell_type": "code",
      "source": [
        "using OrdinaryDiffEq, Plots, LaTeXStrings\nusing OpenQuantumTools\n\n# Hamiltonian\nH = DenseHamiltonian([(s)->1-s, (s)->s], -[σx, σz]/2, unit=:ħ)\n# initial state\nu0 = PauliVec[1][1]\n# coupling\ncoupling = ConstantCouplings([\"Z\"], unit=:ħ)\n# bath\nbath = Ohmic(1e-4, 4, 16)\nannealing = Annealing(H, u0; coupling=coupling, bath=bath)\n\ntf = 60\nU = solve_unitary(annealing, tf, alg=Tsit5(), abstol=1e-8, reltol=1e-8)\nU = InplaceUnitary(U)\n\n@time solr = solve_redfield(annealing, tf, U, alg=Tsit5())\n# we set the integration error tolerance to 1e-5 for speed\n@time solc = solve_cgme(annealing, tf, U, alg=Tsit5(), int_atol=1e-5, int_rtol=1e-5)\nplot(solr, H, [0], 0:0.01:tf, linewidth=2, xlabel=\"t (ns)\", ylabel=\"\\$P_G(t)\\$\", label=\"Redfield\")\nplot!(solc, H, [0], 0:0.01:tf, linewidth=2, label=\"CGME\")"
      ],
      "metadata": {},
      "execution_count": null
    },
    {
      "cell_type": "markdown",
      "source": [
        "## Universal Lindblad equation\n\nThe universal Lindblad equation (ULE) is a different CP ME proposed in [[2] Universal Lindblad equation for open quantum systems](https://arxiv.org/abs/2004.01469). Unlike the Redfield equation and the CGME, it depends on the jump correlator, which is the inverse Fourier transform of the square root of the noise spectrum:\n\n$$g(t)=\\frac{1}{2\\pi}\\int_{-\\infty}^{\\infty} \\sqrt{\\gamma(\\omega)} e^{i\\omega t} \\mathrm{d}\\omega \\ .$$\n\nLet's first see how it looks compared with the two-point correlation function $C(t)$:"
      ],
      "metadata": {}
    },
    {
      "outputs": [],
      "cell_type": "code",
      "source": [
        "using QuadGK\n\ng(t) = quadgk((w)->sqrt(γ(w, bath))*exp(1.0im*w*t)/2/π, -Inf, Inf)[1]\n\nt = range(-0.5,0.5,length=500)\ng_value = g.(t)\nc_value = [correlation(x, bath) for x in t];\n\nplot(t, real.(g_value), label=\"Re[g(t)]\", linewidth=2)\nplot!(t, imag.(g_value), label=\"Im[g(t)]\", linewidth=2)\nplot!(t, real.(c_value), label=\"Re[C(t)]\", linewidth=2)\nplot!(t, imag.(c_value), label=\"Im[C(t)]\", linewidth=2)\nxlabel!(\"t (ns)\")\nylabel!(\"correlation\")"
      ],
      "metadata": {},
      "execution_count": null
    },
    {
      "cell_type": "markdown",
      "source": [
        "The above figure shows that the jump correlator and two-point correlation function have roughly the same time scales. To avoid recalculating the inverse Fourier transform within the solver, we need to precalculate $g(t)$ and construct its interpolating function. The time scales of $C(t)$ can help us estimate the range of such precomputed lookup tables."
      ],
      "metadata": {}
    },
    {
      "outputs": [],
      "cell_type": "code",
      "source": [
        "t = range(-4,4,length=2000)\ng_value = g.(t)\ngf = construct_interpolations(t, g_value, extrapolation = \"flat\")\n\nt = range(-0.5,0.5,length=500)\ng_value = gf.(t)\nplot(t, real.(g_value), label=\"Re[g(t)]\", linewidth=2)\nplot!(t, imag.(g_value), label=\"Im[g(t)]\", linewidth=2)\nxlabel!(\"t (ns)\")\nylabel!(\"fitted jump correlator\")"
      ],
      "metadata": {},
      "execution_count": null
    },
    {
      "cell_type": "markdown",
      "source": [
        "Finally we solve the ULE and compare its result with the Redfield and CGME results:"
      ],
      "metadata": {}
    },
    {
      "outputs": [],
      "cell_type": "code",
      "source": [
        "ubath = ULEBath(gf)\nannealing = Annealing(H, u0; coupling=coupling, bath=ubath)\n@time solu = solve_ule(annealing, tf, U, alg=Tsit5(), int_atol=1e-5, int_rtol=1e-5)\nplot(solr, H, [0], 0:0.01:tf, linewidth=2, xlabel=\"t (ns)\", ylabel=\"\\$P_G(t)\\$\", label=\"Redfield\")\nplot!(solc, H, [0], 0:0.01:tf, linewidth=2, label=\"CGME\")\nplot!(solu, H, [0], 0:0.01:tf, linewidth=2, label=\"ULE\")"
      ],
      "metadata": {},
      "execution_count": null
    }
  ],
  "nbformat_minor": 2,
  "metadata": {
    "language_info": {
      "file_extension": ".jl",
      "mimetype": "application/julia",
      "name": "julia",
      "version": "1.5.3"
    },
    "kernelspec": {
      "name": "julia-1.5",
      "display_name": "Julia 1.5.3",
      "language": "julia"
    }
  },
  "nbformat": 4
}
