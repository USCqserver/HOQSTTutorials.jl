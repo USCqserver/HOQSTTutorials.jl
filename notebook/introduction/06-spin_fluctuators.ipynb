{
  "cells": [
    {
      "cell_type": "markdown",
      "source": [
        "## Spin-fluctuator model (Classical 1/f noise)\nThe spin-fluctuator model is a way to model 1/f noise in solid-state systems and is discussed in more detail in Dr. Yip's [thesis](https://github.com/USCqserver/1fnoise/blob/master/Kawa_Yip_thesis.pdf). You can also find Dr. Yip's MATLAB implementation in this [1fnoise](https://github.com/USCqserver/1fnoise) repo.\n\nThe total Hamiltonian in this tutorial is\n\n$$H(s) = -Z+ \\frac{1}{2}\\sum_i n_i(s) Z \\ ,$$\n\nwhere $n_i(s)$ is the telegraph process that switches randomly between $\\pm b_i$ with a rate $\\gamma_i$. The summation $\\sum_i n_i(s)$ generates the \"1/f\" noise approximately.\n\nWe choose the initial state to be:\n\n$$\\lvert \\phi(0) \\rangle = \\lvert + \\rangle \\ .$$\n\n### EnsembleFluctuator\n\nWe first construct the fluctuator bath object using `EnsembleFluctuator` and plot its spectral density:"
      ],
      "metadata": {}
    },
    {
      "outputs": [],
      "cell_type": "code",
      "source": [
        "using OpenQuantumTools, LaTeXStrings\nusing OrdinaryDiffEq, Plots, StatsBase\n\n# calculate the mean and standard deviation of the mean estimator from a sample\nfunction mean_std(sample)\n    m, v = mean_and_std(sample, corrected=true)\n    m, v/sqrt(length(sample))\nend\n\n# All values calculated below are in angular frequency units\nnum = 10\nbvec = 0.2 * ones(num)\nγvec = log_uniform(0.01, 1, num)\nfluctuator_ensemble = EnsembleFluctuator(bvec, γvec);\n\nplot(fluctuator_ensemble, :spectrum, 2*π*range(0.01, 4, length=100), xscale=:log10, yscale=:log10, linewidth=2, label=\"\")\nxlabel!(L\"\\omega\")\nylabel!(L\"S(\\omega)\")"
      ],
      "metadata": {},
      "execution_count": null
    },
    {
      "cell_type": "markdown",
      "source": [
        "### Free Evolution\n\nWe then calculate the dynamics of the free evolution:"
      ],
      "metadata": {}
    },
    {
      "outputs": [],
      "cell_type": "code",
      "source": [
        "H = DenseHamiltonian([(s)->1], [σz], unit=:ħ)\ncoupling = ConstantCouplings([0.5*σz], unit=:ħ)\nu0 = PauliVec[1][1]\nannealing = Annealing(H, u0, coupling = coupling, bath=fluctuator_ensemble)\ntf = 10\n# create object for parallel simulation\nprob = build_ensembles(annealing, tf, :stochastic)\n# we run each trajectory serially for this example\nsol = solve(prob, Tsit5(), EnsembleSerial(), trajectories=1000, reltol=1e-6, saveat=range(0,tf,length=100))"
      ],
      "metadata": {},
      "execution_count": null
    },
    {
      "cell_type": "markdown",
      "source": [
        "After the solution is obtained, we plot $\\langle + \\rangle$ during the evolution:"
      ],
      "metadata": {}
    },
    {
      "outputs": [],
      "cell_type": "code",
      "source": [
        "t_axis = range(0,tf,length=100)\nes = []\nerr = []\nfor (i, s) in enumerate(t_axis)\n    sample = [abs2(u0'*so[i]) for so in sol]\n    pop, pop_std = mean_std(sample)\n    push!(es, pop)\n    push!(err, 2*pop_std)\nend\n\nplot(t_axis, es, ribbon=err, linewidth=2, label=\"\")\nxlabel!(\"ns\")\nylabel!(\"<+>\")"
      ],
      "metadata": {},
      "execution_count": null
    },
    {
      "cell_type": "markdown",
      "source": [
        "### Pulses in the middle\nWe can also apply instantaneous pulses during the middle of the evolution using `InstPulseControl`. In the following example, we apply $X$ pulses at $s = 0.25, 0.5$ and $0.75$."
      ],
      "metadata": {}
    },
    {
      "outputs": [],
      "cell_type": "code",
      "source": [
        "cb = InstPulseCallback([0.25, 0.5, 0.75] .* tf, (c, x) -> c .= σx * c)\nsol = solve(prob, Tsit5(), EnsembleSerial(), trajectories=1000, reltol=1e-6, saveat=range(0,tf,length=100), callback=cb)"
      ],
      "metadata": {},
      "execution_count": null
    },
    {
      "cell_type": "markdown",
      "source": [
        "We again plot $\\langle + \\rangle$ w.r.t the evolution time:"
      ],
      "metadata": {}
    },
    {
      "outputs": [],
      "cell_type": "code",
      "source": [
        "s_axis = range(0,1,length=100)\nes = []\nerr = []\nfor (i, s) in enumerate(s_axis)\n    sample = [abs2(u0'*so[i]) for so in sol]\n    pop, pop_std = mean_std(sample)\n    push!(es, pop)\n    push!(err, 2*pop_std)\nend\n\nplot(tf*s_axis, es, ribbon=err, linewidth=2, label=\"\")\nxlabel!(\"ns\")\nylabel!(\"<+>\")"
      ],
      "metadata": {},
      "execution_count": null
    },
    {
      "outputs": [],
      "cell_type": "code",
      "source": [
        "using HOQSTTutorials\nHOQSTTutorials.tutorial_footer(WEAVE_ARGS[:folder],WEAVE_ARGS[:file])"
      ],
      "metadata": {},
      "execution_count": null
    }
  ],
  "nbformat_minor": 2,
  "metadata": {
    "language_info": {
      "file_extension": ".jl",
      "mimetype": "application/julia",
      "name": "julia",
      "version": "1.6.1"
    },
    "kernelspec": {
      "name": "julia-1.6",
      "display_name": "Julia 1.6.1",
      "language": "julia"
    }
  },
  "nbformat": 4
}
