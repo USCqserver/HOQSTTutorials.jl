{
  "cells": [
    {
      "cell_type": "markdown",
      "source": [
        "## Spin-fluctuator model (Classical 1/f noise)\nThe total Hamiltonian in this example is\n\n$$H(s) = -Z+ \\frac{1}{2}\\sum_i n_i(s) Z$$\n\nwhere $n_i(s)$ is the telegraph process with amplitude $b_i$ and fliping frequency $\\gamma_i$. The summation $\\sum_i n_i(s)$ generate \"1/f\" noise approximately.\n\nThe initial state is\n\n$$\\lvert \\phi(0) \\rangle = \\lvert + \\rangle \\ .$$\n\nWe first construct the fluctuator bath object using `EnsembleFluctuator` and plot its spectrum density."
      ],
      "metadata": {}
    },
    {
      "outputs": [],
      "cell_type": "code",
      "source": [
        "using QuantumAnnealingTools, LaTeXStrings\nusing OrdinaryDiffEq, Plots, StatsBase\n\n# calculate the mean and standard deviation of mean estimator from a sample\nfunction mean_std(sample)\n    m, v = mean_and_std(sample, corrected=true)\n    m, v/sqrt(length(sample))\nend\n\n# All the value created in the following codes is in angular frquencies unit\nnum = 10\nbvec = 0.2 * ones(num)\nγvec = log_uniform(0.01, 1, num)\nfluctuator_ensemble = EnsembleFluctuator(bvec, γvec);\n\nplot(fluctuator_ensemble, :spectrum, 2*π*range(0.01, 4, length=100), xscale=:log10, yscale=:log10, linewidth=2, label=\"\")\nxlabel!(L\"\\omega\")\nylabel!(L\"S(\\omega)\")"
      ],
      "metadata": {},
      "execution_count": null
    },
    {
      "cell_type": "markdown",
      "source": [
        "### Free Evolution\n\nWe calculate the dynamics of the free evolution."
      ],
      "metadata": {}
    },
    {
      "outputs": [],
      "cell_type": "code",
      "source": [
        "H = DenseHamiltonian([(s)->1], [σz], unit=:ħ)\ncoupling = ConstantCouplings([0.5*σz], unit=:ħ)\nu0 = PauliVec[1][1]\nannealing = Annealing(H, u0, coupling = coupling, bath=fluctuator_ensemble)\ntf = 10\n# create object for parallel simulation\nprob = build_ensembles(annealing, tf, :stochastic)\n\nsol = solve(prob, Tsit5(), EnsembleSerial(), trajectories=1000, reltol=1e-6, saveat=range(0,tf,length=100))"
      ],
      "metadata": {},
      "execution_count": null
    },
    {
      "cell_type": "markdown",
      "source": [
        "After the solution is obtained, we plot $\\langle + \\rangle$ against evolution time."
      ],
      "metadata": {}
    },
    {
      "outputs": [],
      "cell_type": "code",
      "source": [
        "t_axis = range(0,tf,length=100)\nes = []\nerr = []\nfor (i, s) in enumerate(t_axis)\n    sample = [abs2(u0'*so[i]) for so in sol]\n    pop, pop_std = mean_std(sample)\n    push!(es, pop)\n    push!(err, 2*pop_std)\nend\n\nplot(t_axis, es, ribbon=err, linewidth=2, label=\"\")\nxlabel!(\"ns\")\nylabel!(\"<+>\")"
      ],
      "metadata": {},
      "execution_count": null
    },
    {
      "cell_type": "markdown",
      "source": [
        "### Pulses in the middle\nWe can also apply instantaneous pulses during the middle of evolution using `InstPulseControl`. In the following example, we apply $X$ pulses at $s = 0.25, 0.5$ and $0.75$."
      ],
      "metadata": {}
    },
    {
      "outputs": [],
      "cell_type": "code",
      "source": [
        "cb = InstPulseCallback([0.25, 0.5, 0.75] .* tf, (c, x) -> c .= σx * c)\nsol = solve(prob, Tsit5(), EnsembleSerial(), trajectories=1000, reltol=1e-6, saveat=range(0,tf,length=100), callback=cb)"
      ],
      "metadata": {},
      "execution_count": null
    },
    {
      "cell_type": "markdown",
      "source": [
        "Again, we plot the $\\langle + \\rangle$ w.r.t the evolution time."
      ],
      "metadata": {}
    },
    {
      "outputs": [],
      "cell_type": "code",
      "source": [
        "s_axis = range(0,1,length=100)\nes = []\nerr = []\nfor (i, s) in enumerate(s_axis)\n    sample = [abs2(u0'*so[i]) for so in sol]\n    pop, pop_std = mean_std(sample)\n    push!(es, pop)\n    push!(err, 2*pop_std)\nend\n\nplot(tf*s_axis, es, ribbon=err, linewidth=2, label=\"\")\nxlabel!(\"ns\")\nylabel!(\"<+>\")"
      ],
      "metadata": {},
      "execution_count": null
    }
  ],
  "nbformat_minor": 2,
  "metadata": {
    "language_info": {
      "file_extension": ".jl",
      "mimetype": "application/julia",
      "name": "julia",
      "version": "1.5.0"
    },
    "kernelspec": {
      "name": "julia-1.5",
      "display_name": "Julia 1.5.0",
      "language": "julia"
    }
  },
  "nbformat": 4
}
