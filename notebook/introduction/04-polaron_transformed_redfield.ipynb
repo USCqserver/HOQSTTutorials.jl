{
  "cells": [
    {
      "cell_type": "markdown",
      "source": [
        "## Correlation function in the polaron frame\nThis tutorial demonstrates how to use the polaron transformed Redfield equation (PTRE) in HOQST. For more details on the PTRE, see [[1] Non-canonical distribution and non-equilibrium transport beyond weak system-bath coupling regime: A polaron transformation approach](https://link.springer.com/article/10.1007%2Fs11467-016-0540-2).\n\nWe solve both the Redfield equation and the PTRE for a single qubit Hamiltonian\n\n$$H_\\mathrm{S}=\\epsilon \\sigma_z + \\Delta \\sigma_x$$\n\ncoupled to an Ohmic bath via $\\sigma_z$ interaction:\n\n$$H = H_\\mathrm{S} + \\sigma_z \\otimes B + H_\\mathrm{B}\\ .$$\n\nLoosely, the main difference between the Redfield equation and PTRE is that they have different bath correlation functions. For the Redfield equation, the bath correlation function is\n\n$$C(t_1, t_2) = \\langle B(t_1)B(t_2) \\rangle \\ .$$\n\nIn the polaron frame, however, the bath correlation function becomes\n\n$$K(t_1, t_2) = \\exp\\Big\\{ -4 \\int_0^t \\int_{-\\infty}^{0}C(t_1, t_2) \\mathrm{d}t_1 \\mathrm{d}t_2 \\Big\\} \\ .$$\n\nInterested readers can refer to [[2] Macroscopic Resonant Tunneling in the Presence of Low Frequency Noise](https://link.aps.org/doi/10.1103/PhysRevLett.100.197001) and [[3] Dynamics of the dissipative two-state system](https://link.aps.org/doi/10.1103/RevModPhys.59.1) for more details.\n\n### Error bound on the second-order master equation\n\nThe most straightforward analysis is to compare the error bounds given in [[4] Completely positive master equation for arbitrary driving and small level spacing](https://quantum-journal.org/papers/q-2020-02-06-227/) between the Redfield equation and PTRE. We define the error scaling parameter as\n\n$$error = \\frac{\\tau_\\mathrm{B}}{\\tau_\\mathrm{SB}} \\ .$$\n\nThen we plot the error ratio between the Redfield equation and the PTRE\n\n$$R = \\frac{error_{\\mathrm{Redfield}}}{error_{\\mathrm{PTRE}}} \\ ,$$\n\nvs. the system bath coupling strength $\\eta g^2$ while fixing other parameters in the Ohmic bath."
      ],
      "metadata": {}
    },
    {
      "outputs": [],
      "cell_type": "code",
      "source": [
        "using OrdinaryDiffEq, OpenQuantumTools, Plots\nusing LaTeXStrings\n\nfunction err_bound(tf, cfun)\n    tsb, esb = τ_SB(cfun)\n    tb, eb = τ_B(cfun, tf, tsb)\n    tb / tsb\nend\n\nfc = 4; T =12; tf = 1000;\nηlist = log_uniform(1e-3, 5, 1000)\nerr_ratio = []\nerr_clist = []\nerr_klist = []\nfor η in ηlist\n    bath = Ohmic(η, fc, T)\n    cfun = (x)->correlation(x, bath)\n    pfun = (x)->polaron_correlation(x, bath)\n    err_c = err_bound(tf, cfun)\n    err_k = err_bound(tf, pfun)\n    push!(err_clist, err_c)\n    push!(err_klist, err_k)\n    push!(err_ratio, err_c/err_k)\nend\nidx = findfirst((x)->x>=1, err_ratio)\nplot(ηlist, err_ratio, xscale=:log10, yscale=:log10, label=\"\", linewidth=2)\nvline!([ηlist[idx]], label=\"\", linestyle=:dash, linewidth=2)\nannotate!([(0.5, 1.0, Plots.text(\"polaron\")), (0.01, 1.0, Plots.text(\"Redfield\"))])\nxlabel!(L\"\\eta g^2\")\nylabel!(\"R\")"
      ],
      "metadata": {},
      "execution_count": null
    },
    {
      "cell_type": "markdown",
      "source": [
        "From the above figure we observe that when the system-bath coupling strength is larger than $10^{-1}$, the PTRE should have better error scaling than the standard form of the Redfield equation. We also plot the corresponding error values for both the Redfield equation and the PTRE:"
      ],
      "metadata": {}
    },
    {
      "outputs": [],
      "cell_type": "code",
      "source": [
        "plot(ηlist, err_clist, xscale=:log10, yscale=:log10, label=\"Redfield\", linewidth=2)\nplot!(ηlist, err_klist, xscale=:log10, yscale=:log10, label=\"PTRE\", linewidth=2)\nxlabel!(L\"\\eta g^2\")\nylabel!(\"error\")"
      ],
      "metadata": {},
      "execution_count": null
    },
    {
      "cell_type": "markdown",
      "source": [
        "The above figure confirms that the Redfield equation applies to the weak-coupling regime while the PTRE applies to the strong coupling regime.\n\n### Solving PTRE\n\nSince the Redfield equation and the PTRE have identical forms, `solve_redfield` can also be used for the PTRE. To see this, let's first write down the PTRE for our example.\n\n$$\\dot{\\rho}_\\mathrm{S} = \\epsilon σ_z + [ \\sigma_i, \\Lambda_i(t) \\rho_\\mathrm{S}(t) ] + h.c.$$\n\nwhere $i,j \\in [+, -]$, $i \\neq j$ and\n\n$$\\Lambda_i(t)=\\Delta^2 \\int_0^{t} K(t-\\tau)U(t,\\tau) \\sigma_j U^\\dagger(t,\\tau) \\mathrm{d}\\tau \\ .$$\n\nFrom the above equations, it is clear that the following steps are needed to define an evolution in the polaron frame:\n1. define a new Hamiltonian $H = \\epsilon σ_z$;\n2. define new coupling operators $\\sigma_-$ and $\\sigma_+$;\n3. define a new correlated bath with two-point correlation $K_{i,j}(t_1, t_2)$;\n\nThe following code block illustrates how this can be done in HOQST:"
      ],
      "metadata": {}
    },
    {
      "outputs": [],
      "cell_type": "code",
      "source": [
        "# assume ϵ = 1\nconst Δ = 0.1 \n# define the Ohmic bath in the polaron transformed frame\nη = 0.5; bath = Ohmic(η, fc, T)\nK(t1, t2) = Δ^2 * polaron_correlation(t1-t2, bath)\ncfun = [nothing K; K nothing]\npbath = CorrelatedBath(((1,2),(2,1)), correlation=cfun)\n# define coupling as σ+ and σ- operators\nσp = [0 1;0 0.0im]; σm = [0 0;1 0.0im]\ncoupling = ConstantCouplings([σp, σm])\n# manually define the unitary operator\nU(t) = exp(-2.0im * π * σz * t)\nH = DenseHamiltonian([(s)->1.0], [σz])\nu0 = PauliVec[3][1]\nannealing = Annealing(H, u0, coupling = coupling, bath = pbath)\ntf = 100\nsol_ptre = solve_redfield(annealing, tf, U, alg=Tsit5(), Ta=2, reltol=1e-5)\npop_e = [real(s[1,1]) for s in sol_ptre.u]\nplot(sol_ptre.t, pop_e, xlabel=L\"t\\ (\\mathrm{ns})\", ylabel=L\"P_0(t)\", label=\"\", linewidth = 2)"
      ],
      "metadata": {},
      "execution_count": null
    },
    {
      "cell_type": "markdown",
      "source": [
        "For historical reasons, this is known as an example of \"incoherent tunneling\". The off-diagonal elements of the density matrix in the computational basis (the Z-basis) vanish during the entire evolution (shown in the next section).\n\n### Redfield equation\n\nWhat happens to the Redfield equation in this regime? We can also try:"
      ],
      "metadata": {}
    },
    {
      "outputs": [],
      "cell_type": "code",
      "source": [
        "H = DenseHamiltonian([(s)->1.0], [σz+0.1*σx])\ncoupling = ConstantCouplings([\"Z\"])\nannealing = Annealing(H, u0, coupling = coupling, bath = bath)\ntf = 100\n# manually define the unitary operator\nU(t) = exp(-2.0im * π * (σz+0.1*σx) * t)\nsol_redfield = solve_redfield(annealing, tf, U, alg=Tsit5(), Ta=40, reltol=1e-5, callback=PositivityCheckCallback())"
      ],
      "metadata": {},
      "execution_count": null
    },
    {
      "cell_type": "markdown",
      "source": [
        "The Redfield equation becomes non-positive in a very short evolution time. To fix this issue, we use the [coarse-grained master equation (CGME)](https://uscqserver.github.io/HOQSTTutorials.jl/html/introduction/05-CGME_ULE.html) instead."
      ],
      "metadata": {}
    },
    {
      "outputs": [],
      "cell_type": "code",
      "source": [
        "tf = 50\nsolc = solve_cgme(annealing, tf, U, alg=Tsit5(), reltol=1e-3, int_atol=1e-3, int_rtol=1e-3)\nt_axis = range(0,50,length=200)\npop_e = [real(sol_ptre(t)[1,1]) for t in t_axis]\npop_e_cg = [real(solc(t)[1,1]) for t in t_axis]\nplot(t_axis, pop_e, xlabel=L\"t\\ (\\mathrm{ns})\", ylabel=L\"P_0(t)\", label=\"PTRE\", linewidth = 2)\nplot!(t_axis, pop_e_cg, xlabel=L\"t\\ (\\mathrm{ns})\", ylabel=L\"P_0(t)\", label=\"CGME\", linewidth = 2)"
      ],
      "metadata": {},
      "execution_count": null
    },
    {
      "cell_type": "markdown",
      "source": [
        "The PTRE gives a much stronger decay than the Redfield equation for the parameters chosen in this example. One can also verify the amplitude of the off-diagonal elements during the evolution. Unlike the PTRE, the solution of the CGME has non-vanishing off-diagonal elements of the density matrix."
      ],
      "metadata": {}
    },
    {
      "outputs": [],
      "cell_type": "code",
      "source": [
        "t_axis = range(0, 0.2, length=100)\noff_diag_ptre = [abs(sol_ptre(t)[1,2]) for t in t_axis]\noff_diag_cg = [abs(solc(t)[1,2]) for t in t_axis]\nplot(t_axis, off_diag_ptre, xlabel=L\"t\\ (\\mathrm{ns})\", ylabel=L\"\\lvert \\rho_{12} \\rvert|(t)\", label=\"PTRE\", linewidth = 2, legend=:right)\nplot!(t_axis, off_diag_cg, xlabel=L\"t\\ (\\mathrm{ns})\", ylabel=L\"|\\rho_{12}(t)|\", label=\"CGME\", linewidth = 2)"
      ],
      "metadata": {},
      "execution_count": null
    },
    {
      "outputs": [],
      "cell_type": "code",
      "source": [
        "using HOQSTTutorials\nHOQSTTutorials.tutorial_footer(WEAVE_ARGS[:folder],WEAVE_ARGS[:file])"
      ],
      "metadata": {},
      "execution_count": null
    }
  ],
  "nbformat_minor": 2,
  "metadata": {
    "language_info": {
      "file_extension": ".jl",
      "mimetype": "application/julia",
      "name": "julia",
      "version": "1.6.0"
    },
    "kernelspec": {
      "name": "julia-1.6",
      "display_name": "Julia 1.6.0",
      "language": "julia"
    }
  },
  "nbformat": 4
}
