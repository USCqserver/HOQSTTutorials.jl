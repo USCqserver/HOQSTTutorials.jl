{
  "cells": [
    {
      "cell_type": "markdown",
      "source": [
        "## Close System Examples\nThis notebook will get you started with HOQST by introducing you to the functionality for solving colsed-system equations.\n\n### Define the Hamiltonin\nThe first step is to define an Hamiltonian. In this tutorial we focus on a 2-level system with the following Hamiltonian\n\n$$H(s) = - \\sigma_z$$\n\nwhere $s= t/t_f$ is the dimensionless time and $t_f$ is the total evolution time. We use a constant Hamiltonian so the simulation results can be trivially confirmed. The syntax is the same for time dependent Hamiltonians. Let's first define the Hamiltonian by:"
      ],
      "metadata": {}
    },
    {
      "outputs": [],
      "cell_type": "code",
      "source": [
        "using QuantumAnnealingTools, OrdinaryDiffEq, Plots\n# define the Hamiltonian\nH = DenseHamiltonian([(s)->1.0], [-σz], unit=:ħ)"
      ],
      "metadata": {},
      "execution_count": null
    },
    {
      "cell_type": "markdown",
      "source": [
        "In this example, we use the `DenseHamiltonian` object. The syntax is the same for other type of Hamiltonians.\n\nThe closed-system evolution is completely specified by the Hamiltonian and the initial state. We can combine them into a single `Annealing` object by:"
      ],
      "metadata": {}
    },
    {
      "outputs": [],
      "cell_type": "code",
      "source": [
        "# define the initial state by PauliVec[k][j],\n# which are the jth eigenvector of the \n# Pauli matrix σₖ   \nu0 = PauliVec[1][1]\n# define total evolution time in (ns)\ntf = 10\n# combine H and u0 into an Annealing object\nannealing = Annealing(H, u0)"
      ],
      "metadata": {},
      "execution_count": null
    },
    {
      "cell_type": "markdown",
      "source": [
        "The initial state in above code block is\n$$\\lvert \\phi(0) \\rangle = \\lvert + \\rangle \\ .$$\n\nWe will consider three variants of the closed-system equations in this tutorial.\n\n### Schrodinger equation\nWe start with the Schrodinger equation\n\\begin{equation}\n    \\lvert \\dot{\\phi} \\rangle = -i t_f H(s) \\lvert \\phi \\rangle \\ .\n\\end{equation}\n\nTo solve the this differential equation, we need to choose a proper algortihm. HOQST relies on `OrdinaryDiffEq.jl` as the low level solver, which support a large collection of [algorithms](https://docs.sciml.ai/latest/solvers/ode_solve/). We do not guarantee compatibilities to every solver in this list. Users can try specific algorithms if they are interested. We provide a list of algorithms we tested and recommended here:\n\n1. The default Tsitouras 5/4 Runge-Kutta method(Tsit5()).\n\n   This is the default method in `OrdinaryDiffEq` and works well in most cases.\n\n2. A second order A-B-L-S-stable one-step ESDIRK method(TRBDF2()).\n\n   This is the method widely used in large scale classical circuit simulations. Because this method has order of 2, it is recommended to use smaller error tolerance comparing with other higher order methods.\n \n3. A simple linear exponential method(LinearExponential()).\n\n   This method simply discretize the Hamiltonian and do matrix exponential for each interval.\n \n4. Adaptive exponential Rosenbrock methods(Exprb32()/Exprb43()).\n\n   This method belongs to the adaptive exponential Runge-Kutta method family.\n \nIt is important to notice that, method 3 and 4 are exponential methods which would preserve the norm of the state vectors. To solve our the Schrodinger equation we use the function `solve_schrodinger`."
      ],
      "metadata": {}
    },
    {
      "outputs": [],
      "cell_type": "code",
      "source": [
        "sol_tsit = solve_schrodinger(annealing, tf, alg=Tsit5(), abstol=1e-6, reltol=1e-6);\nsol_trbdf = solve_schrodinger(annealing, tf, alg=TRBDF2(), abstol=1e-6, reltol=1e-6);\n# LinearExponential is a fixed step size method, user need to specify the time steps using keyword argument `tstops`.\nsol_linexp = solve_schrodinger(annealing, tf, alg=LinearExponential(), abstol=1e-6, reltol=1e-6, tstops=range(0,tf,length=100));\n# Even though Exprb method is an adaptive method, it tends to jump a lot of middle points. So if you want accurate evolution in the middle,\n# it is better to manually add more points for the algorithm.\nsol_exprb32 = solve_schrodinger(annealing, tf, alg=Exprb32(), tstops=range(0,tf,length=100));"
      ],
      "metadata": {},
      "execution_count": null
    },
    {
      "cell_type": "markdown",
      "source": [
        "We plot the observable $\\langle X \\rangle$ during the evolution."
      ],
      "metadata": {}
    },
    {
      "outputs": [],
      "cell_type": "code",
      "source": [
        "t_list = range(0,tf,length=100)\ntsit = []\ntrbdf = []\nlinexp = []\nexprb32 = []\nfor s in t_list\n    push!(tsit, real(sol_tsit(s)'*σx*sol_tsit(s)))\n    push!(trbdf, real(sol_trbdf(s)'*σx*sol_trbdf(s)))\n    push!(linexp, real(sol_linexp(s)'*σx*sol_linexp(s)))\n    push!(exprb32, real(sol_exprb32(s)'*σx*sol_exprb32(s)))\nend\nscatter(t_list[1:3:end], tsit[1:3:end], label=\"Tsit\", marker=:+, markersize=8)\nscatter!(t_list[2:3:end], trbdf[2:3:end], label=\"TRBDF\")\nscatter!(t_list[3:3:end], linexp[3:3:end], label=\"LinExp\", marker=:d)\nplot!(t_list, exprb32, label=\"Exprb\", linestyle=:dash)\nxlabel!(\"t (ns)\")\nylabel!(\"<X>\")\ntitle!(\"Free Evolution\")"
      ],
      "metadata": {},
      "execution_count": null
    },
    {
      "cell_type": "markdown",
      "source": [
        "### Other close system equations\nThe package also contains several other closed-system solvers.\n#### Von Neumann equation\nVon Neumann equation is the \"Schrodinger\" equation for density matrices\n\n$$\\dot{\\rho} = -it_f[H(s), \\rho] \\ .$$\n\nEven though Von Neumann equation is equivalent to the Schrodinger equation, it is sometimes numerically more stable than the Schrodinger equation. Users is encouraged to try to solve it using different algorithms."
      ],
      "metadata": {}
    },
    {
      "outputs": [],
      "cell_type": "code",
      "source": [
        "annealing = Annealing(H, u0)\nsol_tsit = solve_von_neumann(annealing, tf, alg=Tsit5(), abstol=1e-6, reltol=1e-6)"
      ],
      "metadata": {},
      "execution_count": null
    },
    {
      "cell_type": "markdown",
      "source": [
        "As shown below, the solution given by the solver is the density matrix instead of state vector:"
      ],
      "metadata": {}
    },
    {
      "outputs": [],
      "cell_type": "code",
      "source": [
        "sol_tsit(0.5)"
      ],
      "metadata": {},
      "execution_count": null
    },
    {
      "cell_type": "markdown",
      "source": [
        "##### Recommended algorithm\nOnly explicit methods are supported for solving equations w.r.t. density matrices. [Vectorization] (https://en.wikipedia.org/wiki/Vectorization_(mathematics)) is needed for implicit methods. This can be done by setting `vectorize` keyword argument to be true. For example, in the following code block, we solve the Von Neumann equation with TRBDF2 method:"
      ],
      "metadata": {}
    },
    {
      "outputs": [],
      "cell_type": "code",
      "source": [
        "sol_bdf = solve_von_neumann(annealing, tf, alg=TRBDF2(), reltol=1e-6, vectorize=true)\nsol_bdf(0.5 * tf)"
      ],
      "metadata": {},
      "execution_count": null
    },
    {
      "cell_type": "markdown",
      "source": [
        "As shown above, the solution given by the solver becomes a vectorized version of the density matrix.\n\nSide note: `TRBDF2` can actually work without vectorizing the Von Neumann equation. However, this is not generally true for other algorithms/solvers. For example, we will run into error for `LinearExponential` method if no vectorization is performed:"
      ],
      "metadata": {}
    },
    {
      "outputs": [],
      "cell_type": "code",
      "source": [
        "sol_linexp = solve_von_neumann(annealing, tf, alg=LinearExponential(), tstops=range(0,tf,length=100));\nsol_linexp = solve_von_neumann(annealing, tf, alg=LinearExponential(), tstops=range(0,tf,length=100), vectorize=true);"
      ],
      "metadata": {},
      "execution_count": null
    },
    {
      "cell_type": "markdown",
      "source": [
        "We can again plot the $\\langle X \\rangle$ for different methods"
      ],
      "metadata": {}
    },
    {
      "outputs": [],
      "cell_type": "code",
      "source": [
        "sol_tsit = solve_von_neumann(annealing, tf, alg=Tsit5(), reltol=1e-6);\nsol_trbdf = solve_von_neumann(annealing, tf, alg=TRBDF2(), reltol=1e-6);\n\nsol_linexp = solve_von_neumann(annealing, tf, alg=LinearExponential(), tstops=range(0,tf,length=100), vectorize=true);\n\nsol_exprb32 = solve_von_neumann(annealing, tf, alg=Exprb32(), tstops=range(0,tf,length=100), vectorize=true);\n\nt_list = range(0,tf,length=100)\ntsit = []\ntrbdf = []\nlinexp = []\nexprb32 = []\nfor s in t_list\n    push!(tsit, real(tr(sol_tsit(s)*σx)))\n    push!(trbdf, real(tr(sol_trbdf(s)*σx)))\n    push!(linexp, real(tr(σx*reshape(sol_linexp(s),2,2))))\n    push!(exprb32, real(tr(σx*reshape(sol_exprb32(s),2,2))))\nend\nscatter(t_list[1:3:end], tsit[1:3:end], label=\"Tsit\", marker=:+, markersize=8)\nscatter!(t_list[2:3:end], trbdf[2:3:end], label=\"TRBDF\")\nscatter!(t_list[3:3:end], linexp[3:3:end], label=\"LinExp\", marker=:d)\nplot!(t_list, exprb32, label=\"Exprb\", linestyle=:dash)\nxlabel!(\"t (ns)\")\nylabel!(\"<X>\")\ntitle!(\"Free Evolution\")"
      ],
      "metadata": {},
      "execution_count": null
    },
    {
      "cell_type": "markdown",
      "source": [
        "#### Unitary\nLastly, we can also solve the unitary\n\n$$U(s) = T_+ \\exp\\bigg\\{ -i t_f \\int_0^s H(s') \\mathrm{d}s' \\bigg\\}$$\n\nusing `solve_unitary`. The ODE form of the problem is\n\n$$\\dot{U} = -i t_f H(s) U \\ .$$\n\nAgain, although this is in principle equivalent to Schrondinger/Von Neumann equation, the unitary becomes handy in certain cases, e.g. when solving the Redfeild equation."
      ],
      "metadata": {}
    },
    {
      "outputs": [],
      "cell_type": "code",
      "source": [
        "annealing = Annealing(H, u0)\nsol_tsit = solve_unitary(annealing, tf, alg=Tsit5(),abstol=1e-6, reltol=1e-6)\nsol_tsit(0.5 * tf)"
      ],
      "metadata": {},
      "execution_count": null
    },
    {
      "cell_type": "markdown",
      "source": [
        "Again we plot the $\\langle X \\rangle$ obtained by multiplying the unitary with the initial state."
      ],
      "metadata": {}
    },
    {
      "outputs": [],
      "cell_type": "code",
      "source": [
        "sol_tsit = solve_unitary(annealing, tf, alg=Tsit5(), reltol=1e-6);\nsol_trbdf = solve_unitary(annealing, tf, alg=TRBDF2(), reltol=1e-6, vectorize=true);\n# LinearExponential is a fixed step size method, user need to specify the time steps using keyword argument `tstops`.\nsol_linexp = solve_unitary(annealing, tf, alg=LinearExponential(), tstops=range(0,tf,length=100), vectorize=true);\n# Even though Exprb method is an adaptive method, it tends to jump a lot of middle points. So if you want accurate evolution in the middle,\n# it is better to manually add more points for the algorithm.\nsol_exprb32 = solve_unitary(annealing, tf, alg=Exprb32(), tstops=range(0,tf,length=100), vectorize=true);\n\nt_list = range(0,tf,length=100)\ntsit = []\ntrbdf = []\nlinexp = []\nexprb32 = []\nfor s in t_list\n    state_tsit = sol_tsit(s) * u0\n    state_trbdf = reshape(sol_trbdf(s), 2, 2) * u0\n    state_linexp = reshape(sol_linexp(s), 2, 2) * u0\n    state_exprb32 = reshape(sol_exprb32(s), 2, 2) * u0\n    push!(tsit, real(state_tsit' * σx * state_tsit))\n    push!(trbdf, real(state_trbdf' * σx * state_trbdf))\n    push!(linexp, real(state_linexp' * σx * state_linexp))\n    push!(exprb32, real(state_exprb32' * σx * state_exprb32))\nend\nscatter(t_list[1:3:end], tsit[1:3:end], label=\"Tsit\", marker=:+, markersize=8)\nscatter!(t_list[2:3:end], trbdf[2:3:end], label=\"TRBDF\")\nscatter!(t_list[3:3:end], linexp[3:3:end], label=\"LinExp\", marker=:d)\nplot!(t_list, exprb32, label=\"Exprb\", linestyle=:dash)\nxlabel!(\"t (ns)\")\nylabel!(\"<X>\")\ntitle!(\"Free Evolution\")"
      ],
      "metadata": {},
      "execution_count": null
    }
  ],
  "nbformat_minor": 2,
  "metadata": {
    "language_info": {
      "file_extension": ".jl",
      "mimetype": "application/julia",
      "name": "julia",
      "version": "1.5.2"
    },
    "kernelspec": {
      "name": "julia-1.5",
      "display_name": "Julia 1.5.2",
      "language": "julia"
    }
  },
  "nbformat": 4
}
