{
  "cells": [
    {
      "cell_type": "markdown",
      "source": [
        "This tutorial demonstrates how to solve the time-independent Lindblad equation using HOQST.\n\n## Model setup\nWe consider the Lindblad equation of the following form:\n\n$$\\dot{\\rho} = -i[H, \\rho] + \\sum_i\\gamma_i \\Big( L_i \\rho L_i^\\dagger - \\frac{1}{2}\\big\\{L_i^\\dagger L_i, \\rho\\big\\}\\Big) \\ .$$\nIn this example, we choose a constant Hamiltonian\n\n$$H(s) = \\sigma_z \\ ,$$\n\na single Lindblad operator $L=\\sigma_z$ and a single rate $\\gamma$. The entire evolution can be defined by:"
      ],
      "metadata": {}
    },
    {
      "outputs": [],
      "cell_type": "code",
      "source": [
        "using OpenQuantumTools, OrdinaryDiffEq, Plots\n# define the Hamiltonian\nH = DenseHamiltonian([(s)->1.0], [σz], unit=:ħ)\n# define the initial state\nu0 = PauliVec[1][1]*PauliVec[1][1]'\n# define the Lindblad operator\n# the rate and Lindblad operator can also be time-dependent functions\nlind = Lindblad(0.1, σz)\n# combine them into an Annealing object\nannealing = Annealing(H, u0, interactions = InteractionSet(lind))"
      ],
      "metadata": {},
      "execution_count": null
    },
    {
      "cell_type": "markdown",
      "source": [
        "## Dynamics\nThe solution of the Lindblad ME can be obtained by calling `solve_lindblad`:"
      ],
      "metadata": {}
    },
    {
      "outputs": [],
      "cell_type": "code",
      "source": [
        "# define total annealing/evolution time\ntf = 10\n# solve the Lindblad equation\nsol = solve_lindblad(annealing, 10, alg=Tsit5());"
      ],
      "metadata": {},
      "execution_count": null
    },
    {
      "cell_type": "markdown",
      "source": [
        "In the following code blocks, we show how to extract useful quantities like the Bloch vector or density matrix elements from the simulation results:"
      ],
      "metadata": {}
    },
    {
      "outputs": [],
      "cell_type": "code",
      "source": [
        "t_axis = range(0, 10, length=100)\nbloch_vector = []\nfor t in t_axis\n    # matrix_decompose projects a matrix onto a list of basis elements\n    push!(bloch_vector, 2*real.(matrix_decompose(sol(t), [σx, σy, σz])))\nend\n\noff_diag = []\nfor t in t_axis\n    push!(off_diag, abs(sol(t)[1,2]))\nend"
      ],
      "metadata": {},
      "execution_count": null
    },
    {
      "cell_type": "markdown",
      "source": [
        "We first plot the Bloch vector representation of the qubit along the evolution:"
      ],
      "metadata": {}
    },
    {
      "outputs": [],
      "cell_type": "code",
      "source": [
        "plot(t_axis, [c[1] for c in bloch_vector], label=\"X\", linewidth=2)\nplot!(t_axis, [c[2] for c in bloch_vector], label=\"Y\", linewidth=2)\nplot!(t_axis, [c[3] for c in bloch_vector], label=\"Z\", linewidth=2)\nxlabel!(\"t (ns)\")\nylabel!(\"Bloch Vector\")"
      ],
      "metadata": {},
      "execution_count": null
    },
    {
      "cell_type": "markdown",
      "source": [
        "Then, we plot the absolute value of the off-diagonal element $|\\rho_{01}|$ and compare it with the analytical solution:"
      ],
      "metadata": {}
    },
    {
      "outputs": [],
      "cell_type": "code",
      "source": [
        "plot(t_axis, off_diag, linewidth=2, label=\"ME\")\nplot!(t_axis, 0.5*exp.(-0.2*t_axis), linestyle=:dash, linewidth=3, label=\"Analytical\")\nxlabel!(\"t (ns)\")\nylabel!(\"|ρ₀₁(t)|\")"
      ],
      "metadata": {},
      "execution_count": null
    },
    {
      "cell_type": "markdown",
      "source": [
        "## Quantum trajectories method\nIn this section, we show how to perform the same simulation using the quantum trajectories method. This is done by:"
      ],
      "metadata": {}
    },
    {
      "outputs": [],
      "cell_type": "code",
      "source": [
        "# For the quantum trajectories method, the u0 supplied to `Annealing` must be\n# a state vector.\n# We will show how to replace it with a pure state ensemble later\n# in this example\nu0 = PauliVec[1][1]\nlind = Lindblad(0.1, σz)\nannealing = Annealing(H, u0, interactions = InteractionSet(lind))\ntf = 10\nprob = build_ensembles(annealing, tf, :lindblad)\n# We ran each trajectory serially for the sake of simplicity. The user is encouraged to try parallel algorithms.\nsol = solve(prob, Tsit5(), EnsembleSerial(), trajectories=1000, saveat=range(0,tf,length=100))"
      ],
      "metadata": {},
      "execution_count": null
    },
    {
      "cell_type": "markdown",
      "source": [
        "We can pick one trajectory from the entire set of trajectories and observe how its norm shrinks during the evolution:"
      ],
      "metadata": {}
    },
    {
      "outputs": [],
      "cell_type": "code",
      "source": [
        "vec_norm = []\n# this is the index of the trajectory you want to look at\nidx = 2\nfor v in sol[idx].u\n    push!(vec_norm, norm(v))\nend\nplot(sol[idx].t, vec_norm, linewidth=2, label=\"\", xlabel=\"t (ns)\", ylabel=\"‖ψ̃(t)‖\")"
      ],
      "metadata": {},
      "execution_count": null
    },
    {
      "cell_type": "markdown",
      "source": [
        "We can also compare the results of the quantum trajectories method with the result of the direct solver:"
      ],
      "metadata": {}
    },
    {
      "outputs": [],
      "cell_type": "code",
      "source": [
        "t_axis = range(0,tf,length=100)\ndataset = []\nfor t in t_axis\n    temp = []\n    for so in sol\n        v = normalize(so(t))\n        push!(temp, real.(v'*σx*v))\n    end\n    push!(dataset, temp)\nend\n\nx_mean = []\nx_sem = []\nfor data in dataset\n    t_mean = sum(data)/1000\n    t_sem = sqrt(sum((x)->(x-t_mean)^2, data))/1000\n    push!(x_mean, t_mean)\n    push!(x_sem, t_sem)\nend\n\nscatter(t_axis, x_mean, marker=:d, yerror=2 * x_sem, label=\"1000 trajectories\", markersize=6, ylabel=\"<X>\", xlabel=\"t (ns)\")\nplot!(t_axis, [c[1] for c in bloch_vector], linewidth=2, label=\"direct solver\")\n\ndataset = []\nfor t in t_axis\n    temp = []\n    for so in sol[1:100]\n        v = normalize(so(t))\n        push!(temp, real.(v'*σx*v))\n    end\n    push!(dataset, temp)\nend\n\nx_mean = []\nx_sem = []\nfor data in dataset\n    t_mean = sum(data)/100\n    t_sem = sqrt(sum((x)->(x-t_mean)^2, data))/100\n    push!(x_mean, t_mean)\n    push!(x_sem, t_sem)\nend\n\nplot!(t_axis, x_mean, ribbon=2*x_sem, label=\"100 trajectories\", markersize=6, ylabel=\"<X>\", xlabel=\"t (ns)\")"
      ],
      "metadata": {},
      "execution_count": null
    },
    {
      "cell_type": "markdown",
      "source": [
        "We observe better convergence with more trajectories.\n\n## Pure state ensemble\nIn this last section, we show how to perform the simulation when the initial state is a pure state ensemble. In this case, we need to use the [prob_func](https://diffeq.sciml.ai/stable/features/ensemble/) interface of [DifferentialEquations.jl](https://diffeq.sciml.ai/stable/) to randomly draw an initial state from the pure state ensemble for each trajectory."
      ],
      "metadata": {}
    },
    {
      "outputs": [],
      "cell_type": "code",
      "source": [
        "# PuliVec[1][1] is the plus state and PauliVec[1][2] is the minus state\n# The first argument is a list of corresponding probabilities of the\n# pure states in the second argument. \nE = EᵨEnsemble([0.7, 0.3], [PauliVec[1][1], PauliVec[1][2]])\n\nfunction prob_func(prob,i,repeat)\n  prob.u0 .= sample_state_vector(E)\n  prob\nend\n\nu0 = PauliVec[1][1]\nlind = Lindblad(0.1, σz)\nannealing = Annealing(H, u0, interactions = InteractionSet(lind))\ntf = 10\nprob = build_ensembles(annealing, tf, :lindblad, prob_func=prob_func)\nsol = solve(prob, Tsit5(), EnsembleSerial(), trajectories=2000, saveat=range(0,tf,length=100))"
      ],
      "metadata": {},
      "execution_count": null
    },
    {
      "cell_type": "markdown",
      "source": [
        "We can count the number of each of the pure states in the simulation results:"
      ],
      "metadata": {}
    },
    {
      "outputs": [],
      "cell_type": "code",
      "source": [
        "initial_state_counter = zeros(2)\nfor so in sol\n    if so.prob.u0 == PauliVec[1][1]\n        initial_state_counter[1] += 1\n    else\n        initial_state_counter[2] += 1\n    end\nend\nbar([0,1],initial_state_counter, label=\"\", ylabel=\"Frequency\", xticks=([0, 1], [\"|+⟩\",\"|-⟩\"]))"
      ],
      "metadata": {},
      "execution_count": null
    },
    {
      "cell_type": "markdown",
      "source": [
        "Finally, we plot the result of the quantum trajectories method together with the result of the direct solver:"
      ],
      "metadata": {}
    },
    {
      "outputs": [],
      "cell_type": "code",
      "source": [
        "t_axis = range(0,tf,length=100)\ndataset = []\nfor t in t_axis\n    temp = []\n    for so in sol\n        v = normalize(so(t))\n        push!(temp, real.(v'*σx*v))\n    end\n    push!(dataset, temp)\nend\n\nx_mean = []\nx_sem = []\nfor data in dataset\n    t_mean = sum(data)/2000\n    t_sem = sqrt(sum((x)->(x-t_mean)^2, data))/2000\n    push!(x_mean, t_mean)\n    push!(x_sem, t_sem)\nend\n\n# define Hamiltoian\nH = DenseHamiltonian([(s)->1.0], [σz], unit=:ħ)\n# define initial state\nu0 = 0.7*PauliVec[1][1]*PauliVec[1][1]'+0.3*PauliVec[1][2]*PauliVec[1][2]'\n# define Lindblad operator\nlind = Lindblad(0.1, σz)\n# combine them into an Annealing object\nannealing = Annealing(H, u0, interactions = InteractionSet(lind))\n\n# define total annealing/evolution time\ntf = 10\n# solve the Lindblad equation\nsol = solve_lindblad(annealing, 10, alg=Tsit5());\n\nt_axis = range(0, 10, length=100)\nx_vector = []\nfor t in t_axis\n    push!(x_vector, 2*real.(matrix_decompose(sol(t), [σx])))\nend\n\nscatter(t_axis, x_mean, marker=:d, yerror=2*x_sem, label=\"2000 trajectories\", markersize=6, ylabel=\"<X>\", xlabel=\"t (ns)\")\n\nplot!(t_axis, [c[1] for c in x_vector], linewidth=2, label=\"direct solver\")"
      ],
      "metadata": {},
      "execution_count": null
    },
    {
      "cell_type": "markdown",
      "source": [
        "It is important to note that in order to keep the running-time short we included only 2000 trajectories. The result does not necessarily converge to the true solution."
      ],
      "metadata": {}
    }
  ],
  "nbformat_minor": 2,
  "metadata": {
    "language_info": {
      "file_extension": ".jl",
      "mimetype": "application/julia",
      "name": "julia",
      "version": "1.5.3"
    },
    "kernelspec": {
      "name": "julia-1.5",
      "display_name": "Julia 1.5.3",
      "language": "julia"
    }
  },
  "nbformat": 4
}
