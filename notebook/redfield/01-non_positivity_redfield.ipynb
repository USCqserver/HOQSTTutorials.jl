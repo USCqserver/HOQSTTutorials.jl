{
  "cells": [
    {
      "cell_type": "markdown",
      "source": [
        "In this notebook, we will construct an example where the Redfield equation becomes non-positive. We will also show how to use the positivity-check routine to stop the solver when this happens.\n\n## Ohmic bath\nWe first create an Ohmic bath with the following parameters:"
      ],
      "metadata": {}
    },
    {
      "outputs": [],
      "cell_type": "code",
      "source": [
        "using OpenQuantumTools, OrdinaryDiffEq, Plots, Printf, LaTeXStrings\n\nβ = 4\nT = β_2_temperature(β)\nη = 0.1\nfc= 10/(2π)\nbath = Ohmic(η, fc, T)"
      ],
      "metadata": {},
      "execution_count": null
    },
    {
      "cell_type": "markdown",
      "source": [
        "The spectral density $\\gamma$ is plotted below:"
      ],
      "metadata": {}
    },
    {
      "outputs": [],
      "cell_type": "code",
      "source": [
        "plot(bath, :γ, range(0,10,length=100), linewidth=2, label=\"\")"
      ],
      "metadata": {},
      "execution_count": null
    },
    {
      "cell_type": "markdown",
      "source": [
        "The time scales (defined in [[1] Completely positive master equation for arbitrary driving and small level spacing](https://quantum-journal.org/papers/q-2020-02-06-227/)) of the bath are:"
      ],
      "metadata": {}
    },
    {
      "outputs": [],
      "cell_type": "code",
      "source": [
        "τsb, err_τsb = τ_SB((x)->correlation(x, bath))\n@printf(\"τ_sb of the Ohmic bath is %.6f with error estimation %.2e \\n\", τsb, err_τsb)\nτb, err_τb = τ_B((x)->correlation(x, bath), 100, τsb)\n@printf(\"τ_b of the Ohmic bath is %.6f with error estimation %.2e \\n\", τb, err_τb)"
      ],
      "metadata": {},
      "execution_count": null
    },
    {
      "cell_type": "markdown",
      "source": [
        "## Evolution\n\nWe construct the Hamiltonian by:"
      ],
      "metadata": {}
    },
    {
      "outputs": [],
      "cell_type": "code",
      "source": [
        "Hp = 0.5*σz⊗σi - 0.7*σi⊗σz + 0.3*σz⊗σz\nHd = standard_driver(2)\nH = DenseHamiltonian([(s)->1-s, (s)->s], [-Hd, Hp], unit=:ħ)"
      ],
      "metadata": {},
      "execution_count": null
    },
    {
      "cell_type": "markdown",
      "source": [
        "The spectrum of the Hamiltonian during is"
      ],
      "metadata": {}
    },
    {
      "outputs": [],
      "cell_type": "code",
      "source": [
        "plot(H, range(0,1,length=100), 4, linewidth=2)\nxlabel!(\"s\")\nylabel!(L\"P(s)\")"
      ],
      "metadata": {},
      "execution_count": null
    },
    {
      "cell_type": "markdown",
      "source": [
        "### Closed system\n\nWe now run the closed-system simulation:"
      ],
      "metadata": {}
    },
    {
      "outputs": [],
      "cell_type": "code",
      "source": [
        "tf = 20\nρ0 = (σi+σx)⊗(σi+σx)/4\ncoupling = ConstantCouplings([σz⊗σi, σi⊗σz], unit=:ħ)\nannealing = Annealing(H, ρ0, bath=bath, coupling=coupling)\nclose_sol = solve_von_neumann(annealing, tf, alg = Tsit5(), abstol=1e-6, reltol=1e-6);"
      ],
      "metadata": {},
      "execution_count": null
    },
    {
      "cell_type": "markdown",
      "source": [
        "The population of the instantaneous ground state is:"
      ],
      "metadata": {}
    },
    {
      "outputs": [],
      "cell_type": "code",
      "source": [
        "plot(close_sol, H, 1, range(0,tf,length=100), linewidth=2)\nxlabel!(\"t\")\nylabel!(L\"P_G(s)\")"
      ],
      "metadata": {},
      "execution_count": null
    },
    {
      "cell_type": "markdown",
      "source": [
        "The populations of the computational states are:"
      ],
      "metadata": {}
    },
    {
      "outputs": [],
      "cell_type": "code",
      "source": [
        "t_axis = range(0,tf,length=100)\np_computational_basis = [real(diag(close_sol(s))) for s in t_axis]\np_computational_basis = hcat(p_computational_basis...)\nplot(t_axis, p_computational_basis', linewidth=2, label=[L\"\\rho_{00}\" L\"\\rho_{11}\" L\"\\rho_{22}\" L\"\\rho_{33}\"])\nxlabel!(\"t\")\nylabel!(L\"\\rho\")"
      ],
      "metadata": {},
      "execution_count": null
    },
    {
      "cell_type": "markdown",
      "source": [
        "### Redfield equation\n\nWe solve the Redfield equation:"
      ],
      "metadata": {}
    },
    {
      "outputs": [],
      "cell_type": "code",
      "source": [
        "tf = 20\nU = solve_unitary(annealing, tf, alg = Tsit5(), abstol=1e-7, reltol=1e-7);\nredfield_sol = solve_redfield(annealing, tf, U, alg = Tsit5(), abstol=1e-7, reltol=1e-7);"
      ],
      "metadata": {},
      "execution_count": null
    },
    {
      "cell_type": "markdown",
      "source": [
        "We plot the populations of the computational states:"
      ],
      "metadata": {}
    },
    {
      "outputs": [],
      "cell_type": "code",
      "source": [
        "t_axis = range(0,tf,length=100)\np_computational_basis = [real(diag(redfield_sol(s))) for s in t_axis]\np_computational_basis = hcat(p_computational_basis...)\nplot(t_axis, p_computational_basis', linewidth=2, label=[L\"\\rho_{00}\" L\"\\rho_{11}\" L\"\\rho_{22}\" L\"\\rho_{33}\"])\nxlabel!(\"t\")\nylabel!(L\"\\rho\")"
      ],
      "metadata": {},
      "execution_count": null
    },
    {
      "cell_type": "markdown",
      "source": [
        "We can see that the density matrix becomes negative during evolution.\n\n### Positivity check\n\nWe can add a callback to stop the ODE solver when the density matrix becomes negative."
      ],
      "metadata": {}
    },
    {
      "outputs": [],
      "cell_type": "code",
      "source": [
        "redfield_sol = solve_redfield(annealing, tf, U, alg = Tsit5(), abstol=1e-7, reltol=1e-7, callback=PositivityCheckCallback())"
      ],
      "metadata": {},
      "execution_count": null
    }
  ],
  "nbformat_minor": 2,
  "metadata": {
    "language_info": {
      "file_extension": ".jl",
      "mimetype": "application/julia",
      "name": "julia",
      "version": "1.5.3"
    },
    "kernelspec": {
      "name": "julia-1.5",
      "display_name": "Julia 1.5.3",
      "language": "julia"
    }
  },
  "nbformat": 4
}
