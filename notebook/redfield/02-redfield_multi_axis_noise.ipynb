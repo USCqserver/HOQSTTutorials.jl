{
  "cells": [
    {
      "cell_type": "markdown",
      "source": [
        "## Redfield equation with multi-axis couplings\nIn this example, we show how to solve the Redfield equation with the following Hamiltonian\n\n$$H(s) = - \\sigma_z + \\sigma_x \\otimes B_1 + \\sigma_z \\otimes B_2 + H_\\mathrm{B} \\ ,$$\n\nwhere $B_1$​ and $B_2$​ are independent Ohmic baths with different cutoff frequencies.\n\n### Define the evolution\n\nFirst, we need to combine `AbstractCouplings` with `AbstractBath` into an `Interaction` object. Then we combine different interactions into an `InteractionSet`:"
      ],
      "metadata": {}
    },
    {
      "outputs": [],
      "cell_type": "code",
      "source": [
        "using OrdinaryDiffEq, OpenQuantumTools, Plots\n\ncoupling_1 = ConstantCouplings([\"X\"])\nbath_1 = Ohmic(1e-4, 4, 16)\ninteraction_1 = Interaction(coupling_1, bath_1)\n\ncoupling_2 = ConstantCouplings([\"Z\"])\nbath_2 = Ohmic(1e-4, 0.1, 16)\ninteraction_2 = Interaction(coupling_2, bath_2)\n\ninteraction_set = InteractionSet(interaction_1, interaction_2);"
      ],
      "metadata": {},
      "execution_count": null
    },
    {
      "cell_type": "markdown",
      "source": [
        "Finally, we can create an `Annealing` object with `InteractionSet` instead of `coupling` and `bath`:"
      ],
      "metadata": {}
    },
    {
      "outputs": [],
      "cell_type": "code",
      "source": [
        "H = DenseHamiltonian([(s) -> 1.0], -[σz], unit = :ħ)\nu0 = PauliVec[1][1]\nannealing_1 = Annealing(H, u0, coupling=coupling_1, bath = bath_1)\nannealing_2 = Annealing(H, u0, coupling=coupling_2, bath = bath_2)\nannealing = Annealing(H, u0, interactions=interaction_set)"
      ],
      "metadata": {},
      "execution_count": null
    },
    {
      "cell_type": "markdown",
      "source": [
        "### Solve the Redfield equation\n\nWe solve the Redfield equation with $X$, $Z$, and $X$ plus $Z$ couplings:"
      ],
      "metadata": {}
    },
    {
      "outputs": [],
      "cell_type": "code",
      "source": [
        "tf = 10\n# Generate the unitary first\nU = solve_unitary(annealing, tf, alg=Tsit5(), reltol=1e-6)\n# tag the unitary so the solver know it has inplace update method\n# this will speed up the calculation of integral\nU = InplaceUnitary(U)\n # Solve the Redfield equation\nsol_1 = solve_redfield(annealing_1, tf, U, alg = Tsit5(), abstol = 1e-6, reltol = 1e-6)\nsol_2 = solve_redfield(annealing_2, tf, U, alg = Tsit5(), abstol = 1e-6, reltol = 1e-6)\nsol = solve_redfield(annealing, tf, U, alg = Tsit5(), abstol = 1e-6, reltol = 1e-6)"
      ],
      "metadata": {},
      "execution_count": null
    },
    {
      "cell_type": "markdown",
      "source": [
        "We plot $\\langle X \\rangle$ for the above three cases:"
      ],
      "metadata": {}
    },
    {
      "outputs": [],
      "cell_type": "code",
      "source": [
        "t_list = range(0,tf,length=200)\nx_nopulse = []\nz_nopulse = []\nxz_nopulse = []\nfor s in t_list\n    push!(x_nopulse, real(tr(σx*sol_1(s))))\n    push!(z_nopulse, real(tr(σx*sol_2(s))))\n    push!(xz_nopulse, real(tr(σx*sol(s))))\nend\nplot(t_list, x_nopulse, linewidth=2, label=\"X coupling\")\nplot!(t_list, z_nopulse, linewidth=2, label=\"Z coupling\")\nplot!(t_list, xz_nopulse, linewidth=2, label=\"X+Z coupling\")\nxlabel!(\"s\")\nylabel!(\"<X>\")"
      ],
      "metadata": {},
      "execution_count": null
    },
    {
      "cell_type": "markdown",
      "source": [
        "### Instantaneous pulses\n\nIn this last section, we run the same simulation with a single $X$ pulse in the middle of the evolution (spin echo). This can be done by creating a Callback object and feeding it to the solver. For ideal pulses, we can use the built-in function `InstPulseCallback`. This has similar effects as dynamical decoupling (except that the pulse does not commute with the system Hamiltonian)."
      ],
      "metadata": {}
    },
    {
      "outputs": [],
      "cell_type": "code",
      "source": [
        "# in this example, we apply a Z pulse in the middle of the evolution\n# for the InstPulseCallback constructor\n# the first argument is a list of times where the pulses are applied\n# the second argument is a function to update the state update!(c, pulse_index\n# the function will update the state c with give pulse_index\ncbu = InstPulseCallback([0.5 * tf], (c, x) -> c .= σx * c)\ncb = InstPulseCallback([0.5 * tf], (c, x) -> c .= σx * c * σx)\nannealing_1 = Annealing(H, u0, coupling = coupling_1, bath = bath_1)\nannealing_2 = Annealing(H, u0, coupling=coupling_2, bath = bath_2)\nannealing = Annealing(H, u0, interactions=interaction_set)\n\ntf = 10\nU = solve_unitary(annealing, tf, alg=Tsit5(), reltol=1e-6, callback = cbu);\nU = InplaceUnitary(U)"
      ],
      "metadata": {},
      "execution_count": null
    },
    {
      "outputs": [],
      "cell_type": "code",
      "source": [
        "sol_1 = solve_redfield(annealing_1, tf, U, alg = Tsit5(), reltol = 1e-6, callback=cb)\nsol_2 = solve_redfield(annealing_2, tf, U, alg = Tsit5(), reltol = 1e-6, callback=cb)\nsol = solve_redfield(annealing, tf, U, alg = Tsit5(), reltol = 1e-6, callback=cb);\nt_list = range(0,tf,length=200)\nx_pulse = []\nz_pulse = []\nxz_pulse = []\nfor s in t_list\n    push!(x_pulse, real(tr(σx*sol_1(s))))\n    push!(z_pulse, real(tr(σx*sol_2(s))))\n    push!(xz_pulse, real(tr(σx*sol(s))))\nend\nplot(t_list, x_pulse, linewidth=2, label=\"X coupling\", legend=:topleft, color=1)\nplot!(t_list, z_pulse, linewidth=2, label=\"Z coupling\", color=2)\nplot!(t_list, xz_pulse, linewidth=2, label=\"X+Z coupling\", color=3)\nplot!(t_list, x_nopulse, linewidth=2, linestyle=:dash, label=\"X coupling with no pulse\", color=1)\nplot!(t_list, z_nopulse, linewidth=2, linestyle=:dash, label=\"Z coupling with no pulse\", color=2)\nplot!(t_list, xz_nopulse, linewidth=2, linestyle=:dash, label=\"X+Z coupling with no pulse\", color=3)\nxlabel!(\"s\")\nylabel!(\"<X>\")"
      ],
      "metadata": {},
      "execution_count": null
    },
    {
      "cell_type": "markdown",
      "source": [
        "We can see that the echo pulse slightly reduced the envelope's decay rates for the case where $Z$ coupling is present."
      ],
      "metadata": {}
    }
  ],
  "nbformat_minor": 2,
  "metadata": {
    "language_info": {
      "file_extension": ".jl",
      "mimetype": "application/julia",
      "name": "julia",
      "version": "1.5.3"
    },
    "kernelspec": {
      "name": "julia-1.5",
      "display_name": "Julia 1.5.3",
      "language": "julia"
    }
  },
  "nbformat": 4
}
