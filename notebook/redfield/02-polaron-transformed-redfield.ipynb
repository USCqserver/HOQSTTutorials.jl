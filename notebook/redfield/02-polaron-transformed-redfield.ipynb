{
  "cells": [
    {
      "cell_type": "markdown",
      "source": [
        "## Correlation function in polaron frame"
      ],
      "metadata": {}
    },
    {
      "outputs": [],
      "cell_type": "code",
      "source": [
        "using OrdinaryDiffEq, QuantumAnnealingTools, Plots\nusing LaTeXStrings\n\nfunction err_bound(tf, cfun)\n    tsb, esb = τ_SB(cfun)\n    tb, eb = τ_B(cfun, tf, tsb)\n    tb / tsb\nend\n\nfc = 4; T =12; tf = 1000;\nηlist = log_uniform(1e-3, 5, 1000)\nerr_ratio = []\nfor η in ηlist\n    bath = Ohmic(η, fc, T)\n    cfun = (x)->correlation(x, bath)\n    pfun = (x)->polaron_correlation(x, bath)\n    err_c = err_bound(tf, cfun)\n    err_k = err_bound(tf, pfun)\n    push!(err_ratio, err_c/err_k)\nend\nidx = findfirst((x)->x>=1, err_ratio)\nplot(ηlist, err_ratio, xscale=:log10, yscale=:log10, label=\"\", linewidth=2)\nvline!([ηlist[idx]], label=\"\", linestyle=:dash, linewidth=2)\nannotate!([(0.5, 1.0, Plots.text(\"polaron\")), (0.01, 1.0, Plots.text(\"Redfield\"))])\nxlabel!(L\"\\eta g^2\")\nylabel!(\"error ratio\")"
      ],
      "metadata": {},
      "execution_count": null
    }
  ],
  "nbformat_minor": 2,
  "metadata": {
    "language_info": {
      "file_extension": ".jl",
      "mimetype": "application/julia",
      "name": "julia",
      "version": "1.5.0"
    },
    "kernelspec": {
      "name": "julia-1.5",
      "display_name": "Julia 1.5.0",
      "language": "julia"
    }
  },
  "nbformat": 4
}
